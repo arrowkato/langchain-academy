{
 "cells": [
  {
   "cell_type": "markdown",
   "id": "256d3948",
   "metadata": {},
   "source": [
    "[![Open in Colab](https://colab.research.google.com/assets/colab-badge.svg)](https://colab.research.google.com/github/langchain-ai/langchain-academy/blob/main/module-2/state-schema.ipynb) [![Open in LangChain Academy](https://cdn.prod.website-files.com/65b8cd72835ceeacd4449a53/66e9eba12c7b7688aa3dbb5e_LCA-badge-green.svg)](https://academy.langchain.com/courses/take/intro-to-langgraph/lessons/58239426-lesson-1-state-schema)\n"
   ]
  },
  {
   "cell_type": "markdown",
   "id": "f118fabe-37b7-4cd4-b7a4-9b0fc3875ca3",
   "metadata": {},
   "source": [
    "# State Schema\n",
    "\n",
    "## Review\n",
    "\n",
    "モジュール 1 では、基礎を固めました！私たちは以下のようなエージェントを構築しました：\n",
    "\n",
    "- `act` - モデルが特定のツールを呼び出す\n",
    "- `observe` - ツールの出力をモデルに返す\n",
    "- `reason` - モデルがツールの出力を推論して、次に何をすべきかを決定する\n",
    "- `persist state` - メモリ内のチェックポインタを利用して、中断を伴う長時間の会話をサポートする\n",
    "\n",
    "そして、LangGraph Studio でローカルに提供したり、LangGraph Cloud でデプロイする方法を紹介しました。\n",
    "\n",
    "## Goals\n",
    "\n",
    "このモジュールでは、ステート(state)とメモリ(memory)についてより深く理解していきます。\n",
    "\n",
    "まず、ステートスキーマを定義するいくつかの方法を復習しましょう。\n"
   ]
  },
  {
   "cell_type": "code",
   "execution_count": 1,
   "id": "b9a896f4-8509-456a-9a25-46532342f459",
   "metadata": {},
   "outputs": [],
   "source": [
    "%%capture --no-stderr\n",
    "%pip install --quiet -U langgraph"
   ]
  },
  {
   "cell_type": "markdown",
   "id": "9f7927b0-9909-4e54-b997-ac49c1aeaa09",
   "metadata": {},
   "source": [
    "## Schema\n",
    "\n",
    "LangGraph の `StateGraph` を定義するとき、[state schema](https://langchain-ai.github.io/langgraph/concepts/low_level/#state) を使います。\n",
    "\n",
    "ステートスキーマは、グラフが使用するデータの構造と型を表します。\n",
    "\n",
    "全てのノードはそのスキーマと通信することが期待されています。\n",
    "\n",
    "LangGraph はステートスキーマの定義方法を柔軟に変更することができ、これによって、様々な Python の[型](https://docs.python.org/3/library/stdtypes.html#type-objects)や validation の方法に対応できます\n",
    "\n",
    "## TypedDict\n",
    "\n",
    "モジュール 1 で述べたように、Python の `typing` モジュールの `TypedDict` クラスを使うことができます。\n",
    "\n",
    "これはキーとそれに対応する値の型を指定することができます。\n",
    "\n",
    "しかし、これらは型ヒント(type hint)であることに注意してください。\n",
    "\n",
    "これらは[mypy](https://github.com/python/mypy)のような静的型チェッカや IDE によって、コードが実行される前に型に関する潜在的なエラーを検出するために使用されます。\n",
    "\n",
    "しかし、実行時には強制されません！\n"
   ]
  },
  {
   "cell_type": "code",
   "execution_count": 1,
   "id": "eedb39f0-af0f-4794-bc16-65980d278b59",
   "metadata": {},
   "outputs": [],
   "source": [
    "from typing_extensions import TypedDict\n",
    "\n",
    "\n",
    "class HogeDictState(TypedDict):\n",
    "    foo: str\n",
    "    bar: str"
   ]
  },
  {
   "cell_type": "markdown",
   "id": "d5a71661-1086-455f-a5e0-a6d104034a95",
   "metadata": {},
   "source": [
    "より具体的な値の制約については、`Literal`型ヒントのようなものを使用できます。\n",
    "\n",
    "ここでは、`mood`は 「happy」か 「sad」のどちらかのみです。\n"
   ]
  },
  {
   "cell_type": "code",
   "execution_count": 2,
   "id": "4ad9749c-b127-433f-baa3-189a9349e9f6",
   "metadata": {},
   "outputs": [],
   "source": [
    "from typing import Literal\n",
    "\n",
    "\n",
    "class TypedDictState(TypedDict):\n",
    "    name: str\n",
    "    mood: Literal[\"happy\", \"sad\"]"
   ]
  },
  {
   "cell_type": "markdown",
   "id": "c1a9152d-1728-4a67-9e23-1ef622525047",
   "metadata": {},
   "source": [
    "LangGraph で定義した state クラス（例えばここでは`TypedDictState`）を`StateGraph`に渡すだけで使用することができます。\n",
    "\n",
    "また、各 state のキーはグラフ内の 「チャンネル」と考えることができます。\n",
    "\n",
    "モジュール 1 で説明したように、各ノードで指定されたキーや 「チャンネル 」の値を上書きします。\n"
   ]
  },
  {
   "cell_type": "code",
   "execution_count": 3,
   "id": "2f7a0d6d-f70b-44ed-86e3-7cdb39873ba4",
   "metadata": {},
   "outputs": [
    {
     "data": {
      "image/jpeg": "[encoded data removed]",
      "text/plain": [
       "<IPython.core.display.Image object>"
      ]
     },
     "metadata": {},
     "output_type": "display_data"
    }
   ],
   "source": [
    "import random\n",
    "from IPython.display import Image, display\n",
    "from langgraph.graph import StateGraph, START, END\n",
    "from typing import Any\n",
    "\n",
    "\n",
    "def node_1(state) -> dict[str, Any]:\n",
    "    print(\"---Node 1---\")\n",
    "    return {\"name\": state[\"name\"] + \" is ... \"}\n",
    "\n",
    "\n",
    "def node_2(state) -> dict[str, str]:\n",
    "    print(\"---Node 2---\")\n",
    "    return {\"mood\": \"happy\"}\n",
    "\n",
    "\n",
    "def node_3(state) -> dict[str, str]:\n",
    "    print(\"---Node 3---\")\n",
    "    return {\"mood\": \"sad\"}\n",
    "\n",
    "\n",
    "def decide_mood(state) -> Literal[\"node_2\", \"node_3\"]:\n",
    "    # Here, let's just do a 50 / 50 split between nodes 2, 3\n",
    "    if random.random() < 0.5:\n",
    "        # 50% of the time, we return Node 2\n",
    "        return \"node_2\"\n",
    "\n",
    "    # 50% of the time, we return Node 3\n",
    "    return \"node_3\"\n",
    "\n",
    "\n",
    "# Build graph\n",
    "builder = StateGraph(TypedDictState)\n",
    "builder.add_node(\"node_1\", node_1)\n",
    "builder.add_node(\"node_2\", node_2)\n",
    "builder.add_node(\"node_3\", node_3)\n",
    "\n",
    "# Logic\n",
    "builder.add_edge(START, \"node_1\")\n",
    "builder.add_conditional_edges(\"node_1\", decide_mood)\n",
    "builder.add_edge(\"node_2\", END)\n",
    "builder.add_edge(\"node_3\", END)\n",
    "\n",
    "# Add\n",
    "graph = builder.compile()\n",
    "\n",
    "# View\n",
    "display(Image(graph.get_graph().draw_mermaid_png()))"
   ]
  },
  {
   "cell_type": "markdown",
   "id": "724bb640-2b0e-46c1-9416-b5bcdb9c17c8",
   "metadata": {},
   "source": [
    "state は dict なので、単純に dict でグラフを呼び出して、ステートに`name`キーの初期値を設定します。\n"
   ]
  },
  {
   "cell_type": "code",
   "execution_count": 4,
   "id": "74e09d32-6a08-4250-b19a-1f701828829d",
   "metadata": {},
   "outputs": [
    {
     "name": "stdout",
     "output_type": "stream",
     "text": [
      "---Node 1---\n",
      "---Node 2---\n"
     ]
    },
    {
     "data": {
      "text/plain": [
       "{'name': 'Lance is ... ', 'mood': 'happy'}"
      ]
     },
     "execution_count": 4,
     "metadata": {},
     "output_type": "execute_result"
    }
   ],
   "source": [
    "graph.invoke({\"name\": \"Lance\"})"
   ]
  },
  {
   "cell_type": "markdown",
   "id": "70cc5368-18b8-49c7-b561-41888b092311",
   "metadata": {},
   "source": [
    "## Dataclass\n",
    "\n",
    "Python の [dataclasses](https://docs.python.org/3/library/dataclasses.html) は [構造化データを定義する別の方法](https://www.datacamp.com/tutorial/python-data-classes) を提供します。\n",
    "\n",
    "dataclasses は、主にデータを格納するために使われるクラスを作成するための簡潔な構文を提供します。\n"
   ]
  },
  {
   "cell_type": "code",
   "execution_count": 5,
   "id": "d576fc2c-350b-42ad-89e5-f93ae102dbf8",
   "metadata": {},
   "outputs": [],
   "source": [
    "from dataclasses import dataclass\n",
    "\n",
    "\n",
    "@dataclass\n",
    "class DataclassState:\n",
    "    name: str\n",
    "    mood: Literal[\"happy\", \"sad\"]"
   ]
  },
  {
   "cell_type": "markdown",
   "id": "64482b93-3c8f-4a30-925f-9be64e4b8b6f",
   "metadata": {},
   "source": [
    "`dataclass` のキーにアクセスするには、`node_1`で使用した添え字を変更するだけです：\n",
    "\n",
    "- 上記の`TypedDict`では`state[\"name\"]`ではなく、`dataclass` の状態に対して`state.name`を使用しています。\n",
    "\n",
    "少し奇妙なことにお気づきでしょう。各ノードでは状態の更新を行うために辞書を返しています。\n",
    "\n",
    "これは LangGraph がステートオブジェクトが別々に各キーを保存しているからです。\n",
    "\n",
    "ノードから返されるオブジェクトは、状態のキーと一致するキー（属性）を持っていればよいのです！\n",
    "\n",
    "この場合、`dataclass`はキー`name`を持っているので、state が`TypedDict`であったときと同じように、ノードから dict を渡すことで更新することができます。\n"
   ]
  },
  {
   "cell_type": "code",
   "execution_count": 6,
   "id": "1e1eda69-916f-4f6e-b400-6e65f73d8716",
   "metadata": {},
   "outputs": [
    {
     "data": {
      "image/jpeg": "[encoded data removed]",
      "text/plain": [
       "<IPython.core.display.Image object>"
      ]
     },
     "metadata": {},
     "output_type": "display_data"
    }
   ],
   "source": [
    "def node_1(state) -> dict[str, Any]:\n",
    "    print(\"---Node 1---\")\n",
    "    return {\"name\": state.name + \" is ... \"}\n",
    "\n",
    "\n",
    "# Build graph\n",
    "builder = StateGraph(DataclassState)\n",
    "builder.add_node(\"node_1\", node_1)\n",
    "builder.add_node(\"node_2\", node_2)\n",
    "builder.add_node(\"node_3\", node_3)\n",
    "\n",
    "# Logic\n",
    "builder.add_edge(START, \"node_1\")\n",
    "builder.add_conditional_edges(\"node_1\", decide_mood)\n",
    "builder.add_edge(\"node_2\", END)\n",
    "builder.add_edge(\"node_3\", END)\n",
    "\n",
    "# Add\n",
    "graph = builder.compile()\n",
    "\n",
    "# View\n",
    "display(Image(graph.get_graph().draw_mermaid_png()))"
   ]
  },
  {
   "cell_type": "markdown",
   "id": "06beb50a-4878-4d7e-ac6c-d60a0f417eb3",
   "metadata": {},
   "source": [
    "`dataclass` を起動(invoke)して、各キー/チャンネルの初期値を設定します！\n"
   ]
  },
  {
   "cell_type": "code",
   "execution_count": 7,
   "id": "8c042325-e93d-43e1-9ac7-a0e20c2fb08d",
   "metadata": {},
   "outputs": [
    {
     "name": "stdout",
     "output_type": "stream",
     "text": [
      "---Node 1---\n",
      "---Node 3---\n"
     ]
    },
    {
     "data": {
      "text/plain": [
       "{'name': 'Lance is ... ', 'mood': 'sad'}"
      ]
     },
     "execution_count": 7,
     "metadata": {},
     "output_type": "execute_result"
    }
   ],
   "source": [
    "graph.invoke(DataclassState(name=\"Lance\", mood=\"sad\"))"
   ]
  },
  {
   "cell_type": "markdown",
   "id": "2405e49b-e786-4bf9-ac85-1fb941d01bcd",
   "metadata": {},
   "source": [
    "## Pydantic\n",
    "\n",
    "前述のように、 `TypedDict` と `dataclasses` は型ヒント(type hint)を提供しますが、実行時に型を強制することはありません。\n",
    "\n",
    "つまり、エラーを出さずに無効な値を代入できる可能性があります！\n",
    "\n",
    "例えば、型ヒントは `mood: list[Literal[\"happy\", \"sad\"]]` を指定しているにもかかわらず、引数`mood` に (happy や sad のかわりに) `mad` に指定できてしまいます。\n"
   ]
  },
  {
   "cell_type": "code",
   "execution_count": 8,
   "id": "522fcc76-abf7-452a-9d7b-000e06942d94",
   "metadata": {},
   "outputs": [],
   "source": [
    "# ホントはこの指定はできないほうがグラフの定義としては望ましい\n",
    "dataclass_instance = DataclassState(name=\"Lance\", mood=\"mad\")"
   ]
  },
  {
   "cell_type": "markdown",
   "id": "4f095c3a-96b5-4318-9303-20424b4455e9",
   "metadata": {},
   "source": [
    "[Pydantic](https://docs.pydantic.dev/latest/api/base_model/)は Python の型アノテーションを使ったデータの validation と設定管理ライブラリです。\n",
    "\n",
    "Pydantic は検証機能を備えているため、[LangGraph での状態スキーマの定義](https://langchain-ai.github.io/langgraph/how-tos/state-model/)に特に適しています。\n",
    "\n",
    "Pydantic は、実行時にデータが指定された型や制約に適合しているかどうかの検証(validation)できます。\n"
   ]
  },
  {
   "cell_type": "code",
   "execution_count": 10,
   "id": "62e8720e-217f-4b98-837a-af45c3fa577f",
   "metadata": {},
   "outputs": [
    {
     "name": "stdout",
     "output_type": "stream",
     "text": [
      "Validation Error: 1 validation error for PydanticState\n",
      "mood\n",
      "  Input should be 'happy' or 'sad' [type=literal_error, input_value='mad', input_type=str]\n",
      "    For further information visit https://errors.pydantic.dev/2.9/v/literal_error\n"
     ]
    }
   ],
   "source": [
    "from pydantic import BaseModel, field_validator, ValidationError\n",
    "\n",
    "\n",
    "class PydanticState(BaseModel):\n",
    "    name: str\n",
    "    mood: Literal[\"happy\", \"sad\"]\n",
    "\n",
    "    @field_validator(\"mood\")\n",
    "    @classmethod\n",
    "    def validate_mood(cls, value) -> any:\n",
    "        # Ensure the mood is either \"happy\" or \"sad\"\n",
    "        if value not in [\"happy\", \"sad\"]:\n",
    "            raise ValueError(\"Each mood must be either 'happy' or 'sad'\")\n",
    "        return value\n",
    "\n",
    "\n",
    "try:\n",
    "    # PydanticState のコンストラクタ呼び出し時にバリデーションが実行され、\n",
    "    # happy or sad 以外は許可されていないので例外が発生する\n",
    "    state = PydanticState(name=\"John Doe\", mood=\"mad\")\n",
    "except ValidationError as e:\n",
    "    print(\"Validation Error:\", e)"
   ]
  },
  {
   "cell_type": "markdown",
   "id": "f29913ca-0295-48eb-af4e-cae515dd9a9c",
   "metadata": {},
   "source": [
    "We can use `PydanticState` in our graph seamlessly.\n"
   ]
  },
  {
   "cell_type": "code",
   "execution_count": 11,
   "id": "91db3393-b7f8-46e5-8129-0e7539b2804c",
   "metadata": {},
   "outputs": [
    {
     "data": {
      "image/jpeg": "[encoded data removed]",
      "text/plain": [
       "<IPython.core.display.Image object>"
      ]
     },
     "metadata": {},
     "output_type": "display_data"
    }
   ],
   "source": [
    "# Build graph\n",
    "builder = StateGraph(PydanticState)\n",
    "builder.add_node(\"node_1\", node_1)\n",
    "builder.add_node(\"node_2\", node_2)\n",
    "builder.add_node(\"node_3\", node_3)\n",
    "\n",
    "# Logic\n",
    "builder.add_edge(START, \"node_1\")\n",
    "builder.add_conditional_edges(\"node_1\", decide_mood)\n",
    "builder.add_edge(\"node_2\", END)\n",
    "builder.add_edge(\"node_3\", END)\n",
    "\n",
    "# Add\n",
    "graph = builder.compile()\n",
    "\n",
    "# View\n",
    "display(Image(graph.get_graph().draw_mermaid_png()))"
   ]
  },
  {
   "cell_type": "code",
   "execution_count": 12,
   "id": "e96c78be-b483-4fa4-949b-62d4274e97ac",
   "metadata": {},
   "outputs": [
    {
     "name": "stdout",
     "output_type": "stream",
     "text": [
      "---Node 1---\n",
      "---Node 3---\n"
     ]
    },
    {
     "data": {
      "text/plain": [
       "{'name': 'Lance is ... ', 'mood': 'sad'}"
      ]
     },
     "execution_count": 12,
     "metadata": {},
     "output_type": "execute_result"
    }
   ],
   "source": [
    "graph.invoke(PydanticState(name=\"Lance\", mood=\"sad\"))"
   ]
  },
  {
   "cell_type": "code",
   "execution_count": null,
   "id": "8119232a-7d56-4abc-b0ef-18bf5f0cc9fd",
   "metadata": {},
   "outputs": [],
   "source": []
  }
 ],
 "metadata": {
  "kernelspec": {
   "display_name": ".venv",
   "language": "python",
   "name": "python3"
  },
  "language_info": {
   "codemirror_mode": {
    "name": "ipython",
    "version": 3
   },
   "file_extension": ".py",
   "mimetype": "text/x-python",
   "name": "python",
   "nbconvert_exporter": "python",
   "pygments_lexer": "ipython3",
   "version": "3.12.6"
  }
 },
 "nbformat": 4,
 "nbformat_minor": 5
}
