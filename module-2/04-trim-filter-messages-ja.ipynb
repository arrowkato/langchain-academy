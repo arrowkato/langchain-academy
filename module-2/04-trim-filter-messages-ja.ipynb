{
 "cells": [
  {
   "cell_type": "markdown",
   "id": "fb0ebaf1",
   "metadata": {},
   "source": [
    "[![Open in Colab](https://colab.research.google.com/assets/colab-badge.svg)](https://colab.research.google.com/github/langchain-ai/langchain-academy/blob/main/module-2/trim-filter-messages.ipynb) [![Open in LangChain Academy](https://cdn.prod.website-files.com/65b8cd72835ceeacd4449a53/66e9eba12c7b7688aa3dbb5e_LCA-badge-green.svg)](https://academy.langchain.com/courses/take/intro-to-langgraph/lessons/58239435-lesson-4-trim-and-filter-messages)\n"
   ]
  },
  {
   "cell_type": "markdown",
   "id": "c52ea2f9-03ff-4647-b782-46867ebed04e",
   "metadata": {},
   "source": [
    "# Filtering and trimming messages\n",
    "\n",
    "## Review\n",
    "\n",
    "これで、いくつかのことを深く理解することができました：\n",
    "\n",
    "- グラフの状態スキーマをカスタマイズする方法\n",
    "- カスタム state reducer の定義方法\n",
    "- 複数のグラフ state schema の使用方法\n",
    "\n",
    "## Goals\n",
    "\n",
    "さて、これらのコンセプトを LangGraph のモデルで使い始めましょう！\n",
    "\n",
    "次の数セッションでは、長期記憶(long-term memory)を持つチャットボットを作ります。\n",
    "\n",
    "私たちのチャットボットはメッセージを使うので、まずはグラフステートでメッセージを扱う高度な方法についてもう少しお話ししましょう。\n"
   ]
  },
  {
   "cell_type": "code",
   "execution_count": null,
   "id": "d5197aba-5d46-421b-ae3b-4e3034edcfda",
   "metadata": {},
   "outputs": [],
   "source": [
    "%%capture --no-stderr\n",
    "%pip install --quiet -U langchain_core langgraph langchain_openai"
   ]
  },
  {
   "cell_type": "code",
   "execution_count": 1,
   "id": "768dc606-d5f2-468d-96ea-910b264e0f8a",
   "metadata": {},
   "outputs": [],
   "source": [
    "import os\n",
    "import getpass\n",
    "\n",
    "\n",
    "def _set_env(var: str) -> None:\n",
    "    if not os.environ.get(var):\n",
    "        os.environ[var] = getpass.getpass(f\"{var}: \")\n",
    "\n",
    "\n",
    "_set_env(\"OPENAI_API_KEY\")"
   ]
  },
  {
   "cell_type": "markdown",
   "id": "8b64d8d3-e4ac-4961-bdc0-688825eb5864",
   "metadata": {},
   "source": [
    "[tracing](https://docs.smith.langchain.com/concepts/tracing)には[LangSmith](https://docs.smith.langchain.com/)を使います。\n",
    "\n",
    "`langchain-academy`というプロジェクトにログを記録します。\n"
   ]
  },
  {
   "cell_type": "code",
   "execution_count": 2,
   "id": "dd020c79",
   "metadata": {},
   "outputs": [],
   "source": [
    "_set_env(\"LANGCHAIN_API_KEY\")\n",
    "os.environ[\"LANGCHAIN_TRACING_V2\"] = \"true\"\n",
    "os.environ[\"LANGCHAIN_PROJECT\"] = \"langchain-academy\""
   ]
  },
  {
   "cell_type": "markdown",
   "id": "72f3fc90-58b6-4f7f-897e-dddf6ae532c7",
   "metadata": {},
   "source": [
    "## Messages as state\n",
    "\n",
    "まず、メッセージを定義します。\n"
   ]
  },
  {
   "cell_type": "code",
   "execution_count": 3,
   "id": "cf11a463-e27a-4a05-b41d-64882e38edca",
   "metadata": {},
   "outputs": [
    {
     "name": "stdout",
     "output_type": "stream",
     "text": [
      "==================================\u001b[1m Ai Message \u001b[0m==================================\n",
      "Name: Bot\n",
      "\n",
      "海の哺乳類を研究していると言いましたね？\n",
      "================================\u001b[1m Human Message \u001b[0m=================================\n",
      "Name: Lance\n",
      "\n",
      "はい、クジラについては知っています。でも、他にどんなことを学べばいいですか？\n"
     ]
    }
   ],
   "source": [
    "from langchain_core.messages import AIMessage, HumanMessage\n",
    "\n",
    "messages = [\n",
    "    AIMessage(\n",
    "        \"海の哺乳類を研究していると言いましたね？\",\n",
    "        name=\"Bot\",\n",
    "    )\n",
    "]\n",
    "messages.append(\n",
    "    HumanMessage(\n",
    "        \"はい、クジラについては知っています。でも、他にどんなことを学べばいいですか？\",\n",
    "        name=\"Lance\",\n",
    "    )\n",
    ")\n",
    "\n",
    "for m in messages:\n",
    "    m.pretty_print()"
   ]
  },
  {
   "cell_type": "markdown",
   "id": "b814adcb-6bf9-4b75-be11-e59f933fbd0c",
   "metadata": {},
   "source": [
    "メッセージをチャットモデルに渡すことができます。\n"
   ]
  },
  {
   "cell_type": "code",
   "execution_count": 4,
   "id": "4712e288-e622-48a2-ad3f-a52f65f3ab08",
   "metadata": {},
   "outputs": [
    {
     "data": {
      "text/plain": [
       "AIMessage(content='クジラについて深く理解するためには、以下のトピックを学ぶと良いでしょう：\\n\\n1. **生態と行動**: クジラの生活習慣、繁殖行動、移動パターン、食性などを理解することが重要です。\\n\\n2. **種の多様性**: クジラには多くの異なる種が存在します。例えば、ザトウクジラ、シロナガスクジラ、マッコウクジラなど、各種の特性や生態を学ぶことが役立ちます。\\n\\n3. **音とコミュニケーション**: クジラは音を使ってコミュニケーションをとります。彼らの歌や音のパターンを理解することで、社会構造や行動を知る手助けになります。\\n\\n4. **環境問題**: 海洋環境の変化や人間活動がクジラに与える影響（例：気候変動、海洋汚染、漁業の影響）について学ぶことが重要です。\\n\\n5. **保護活動**: クジラを保護するための取り組みや法規制、国際的な協力について知識を深めることが必要です。\\n\\n6. **研究方法**: クジラの研究に使われるテクニックやツール（例えば、タグ付け、音響モニタリングなど）を学ぶことで、実際の研究に役立ちます。\\n\\nこれらのトピックを掘り下げることで、クジラについての理解が深まるでしょう。興味のある分野から始めてみてください！', additional_kwargs={'refusal': None}, response_metadata={'token_usage': {'completion_tokens': 385, 'prompt_tokens': 53, 'total_tokens': 438, 'completion_tokens_details': {'audio_tokens': None, 'reasoning_tokens': 0}, 'prompt_tokens_details': {'audio_tokens': None, 'cached_tokens': 0}}, 'model_name': 'gpt-4o-mini-2024-07-18', 'system_fingerprint': 'fp_482c22a7bc', 'finish_reason': 'stop', 'logprobs': None}, id='run-95c3be18-0f6f-4d7d-a0a9-197774c4c72f-0', usage_metadata={'input_tokens': 53, 'output_tokens': 385, 'total_tokens': 438, 'input_token_details': {'cache_read': 0}, 'output_token_details': {'reasoning': 0}})"
      ]
     },
     "execution_count": 4,
     "metadata": {},
     "output_type": "execute_result"
    },
    {
     "name": "stderr",
     "output_type": "stream",
     "text": [
      "Failed to multipart ingest runs: langsmith.utils.LangSmithError: Failed to POST https://api.smith.langchain.com/runs/multipart in LangSmith API. HTTPError('400 Client Error: Bad Request for url: https://api.smith.langchain.com/runs/multipart', '{\"detail\":\"Empty request\"}')\n"
     ]
    }
   ],
   "source": [
    "from langchain_openai import ChatOpenAI\n",
    "\n",
    "llm = ChatOpenAI(model=\"gpt-4o-mini\")\n",
    "llm.invoke(messages)"
   ]
  },
  {
   "cell_type": "markdown",
   "id": "fbd1dab8-0af8-4621-8264-ce65065f76ec",
   "metadata": {},
   "source": [
    "`MessagesState`を使えば、単純なグラフの中でチャットモデルを動かすことができます。\n"
   ]
  },
  {
   "cell_type": "code",
   "execution_count": 5,
   "id": "bbd8c39c-633b-4176-9cc6-8318e42bb5dd",
   "metadata": {},
   "outputs": [
    {
     "data": {
      "image/jpeg": "[encoded data removed]",
      "text/plain": [
       "<IPython.core.display.Image object>"
      ]
     },
     "metadata": {},
     "output_type": "display_data"
    }
   ],
   "source": [
    "from IPython.display import Image, display\n",
    "from langchain_core.messages.base import BaseMessage\n",
    "from langgraph.graph import MessagesState\n",
    "from langgraph.graph import StateGraph, START, END\n",
    "\n",
    "\n",
    "# Node\n",
    "def chat_model_node(state: MessagesState) -> dict[str, BaseMessage]:\n",
    "    return {\"messages\": llm.invoke(state[\"messages\"])}\n",
    "\n",
    "\n",
    "# Build graph\n",
    "builder = StateGraph(MessagesState)\n",
    "builder.add_node(\"chat_model\", chat_model_node)\n",
    "builder.add_edge(START, \"chat_model\")\n",
    "builder.add_edge(\"chat_model\", END)\n",
    "graph = builder.compile()\n",
    "\n",
    "# View\n",
    "display(Image(graph.get_graph().draw_mermaid_png()))"
   ]
  },
  {
   "cell_type": "code",
   "execution_count": 6,
   "id": "3a5a3e4a-ccfd-4d14-81f1-f0de6e11a1e4",
   "metadata": {},
   "outputs": [
    {
     "name": "stdout",
     "output_type": "stream",
     "text": [
      "==================================\u001b[1m Ai Message \u001b[0m==================================\n",
      "Name: Bot\n",
      "\n",
      "海の哺乳類を研究していると言いましたね？\n",
      "================================\u001b[1m Human Message \u001b[0m=================================\n",
      "Name: Lance\n",
      "\n",
      "はい、クジラについては知っています。でも、他にどんなことを学べばいいですか？\n",
      "==================================\u001b[1m Ai Message \u001b[0m==================================\n",
      "\n",
      "クジラについて学ぶ際、以下のトピックも興味深いかもしれません：\n",
      "\n",
      "1. **クジラの生態**:\n",
      "   - 生活環境や餌の取り方\n",
      "   - 繁殖行動や成長段階\n",
      "\n",
      "2. **クジラの種類**:\n",
      "   - 鯨類の分類（ヒゲクジラと歯クジラなど）\n",
      "   - 各種の特徴や分布\n",
      "\n",
      "3. **音とコミュニケーション**:\n",
      "   - クジラの歌や音の使い方\n",
      "   - 音波を利用したエコーロケーション\n",
      "\n",
      "4. **保護と保全**:\n",
      "   - 環境問題や人間の活動がクジラに与える影響\n",
      "   - 保護活動や国際的な取り組み\n",
      "\n",
      "5. **文化的な視点**:\n",
      "   - クジラがさまざまな文化に与えた影響\n",
      "   - 神話や伝説におけるクジラの役割\n",
      "\n",
      "6. **研究方法**:\n",
      "   - フィールドワークや観察技術\n",
      "   - 遺伝学や生理学的な研究手法\n",
      "\n",
      "これらのテーマを深掘りすることで、クジラについての理解がより一層深まるでしょう。興味のある分野はありますか？\n"
     ]
    }
   ],
   "source": [
    "output = graph.invoke({\"messages\": messages})\n",
    "for m in output[\"messages\"]:\n",
    "    m.pretty_print()"
   ]
  },
  {
   "cell_type": "markdown",
   "id": "34c33e63-1ef4-412d-bb10-6a1b9e5b35a7",
   "metadata": {},
   "source": [
    "## Reducer\n",
    "\n",
    "メッセージを扱う際の現実的な課題は、長く続く(long-running)会話を管理することです。\n",
    "\n",
    "長く続く会話は、気をつけないとトークンの使用量が多くなり、待ち時間が長くなります、というのも、どんどん増えていくメッセージのリストをモデルに渡すからです。\n",
    "\n",
    "これに対処する方法はいくつかあります。\n",
    "\n",
    "まず、 `RemoveMessage` と `add_messages` reducer を使ったトリックを思い出してください。\n"
   ]
  },
  {
   "cell_type": "code",
   "execution_count": 7,
   "id": "222c6bc5-bb0e-4a43-80f5-c8ec38d99f3a",
   "metadata": {},
   "outputs": [
    {
     "data": {
      "image/jpeg": "[encoded data removed]",
      "text/plain": [
       "<IPython.core.display.Image object>"
      ]
     },
     "metadata": {},
     "output_type": "display_data"
    }
   ],
   "source": [
    "from langchain_core.messages import RemoveMessage\n",
    "from langchain_core.messages.base import BaseMessage\n",
    "\n",
    "\n",
    "# Nodes\n",
    "def filter_messages(state: MessagesState) -> dict[str, list[RemoveMessage]]:\n",
    "    # Delete all but the 2 most recent messages\n",
    "    # 最新の2つのメッセージ以外を削除\n",
    "    delete_messages = [RemoveMessage(id=m.id) for m in state[\"messages\"][:-2]]\n",
    "    return {\"messages\": delete_messages}\n",
    "\n",
    "\n",
    "def chat_model_node(state: MessagesState) -> dict[str, list[BaseMessage]]:\n",
    "    return {\"messages\": [llm.invoke(state[\"messages\"])]}\n",
    "\n",
    "\n",
    "# Build graph\n",
    "builder = StateGraph(MessagesState)\n",
    "builder.add_node(\"filter\", filter_messages)\n",
    "builder.add_node(\"chat_model\", chat_model_node)\n",
    "builder.add_edge(START, \"filter\")\n",
    "builder.add_edge(\"filter\", \"chat_model\")\n",
    "builder.add_edge(\"chat_model\", END)\n",
    "graph = builder.compile()\n",
    "\n",
    "# View\n",
    "display(Image(graph.get_graph().draw_mermaid_png()))"
   ]
  },
  {
   "cell_type": "code",
   "execution_count": 8,
   "id": "95a7c2cc-54ce-43e7-9a90-abf37827d709",
   "metadata": {},
   "outputs": [
    {
     "name": "stdout",
     "output_type": "stream",
     "text": [
      "==================================\u001b[1m Ai Message \u001b[0m==================================\n",
      "Name: Bot\n",
      "\n",
      "海洋哺乳類の研究をしているとおっしゃっていましたよね？\n",
      "================================\u001b[1m Human Message \u001b[0m=================================\n",
      "Name: Lance\n",
      "\n",
      "ええ、クジラについては知っています。でも、他にどんなことを学べばいいですか？\n",
      "==================================\u001b[1m Ai Message \u001b[0m==================================\n",
      "\n",
      "クジラについて学ぶ際に、以下のポイントも考慮すると良いでしょう：\n",
      "\n",
      "1. **生態学**: クジラの生息環境、餌の種類、繁殖行動について学ぶと、彼らの生態系における役割が理解できます。\n",
      "\n",
      "2. **種の多様性**: クジラには多くの種が存在します。それぞれの種の特徴や行動、分布について調べると、全体像が見えてきます。\n",
      "\n",
      "3. **コミュニケーション**: クジラの音声コミュニケーションや歌についての研究は非常に興味深いです。これにより、彼らの社会的構造や行動についても知識を深められます。\n",
      "\n",
      "4. **保全**: クジラは多くの脅威にさらされています。環境問題、捕鯨、海洋汚染など、保全に関する知識も重要です。\n",
      "\n",
      "5. **文化と歴史**: 人間とクジラの関係や、文化的な視点からのクジラの位置づけについて学ぶことも有意義です。\n",
      "\n",
      "6. **科学技術**: クジラの研究には、衛星追跡や音響技術など、最新の科学技術が利用されています。これらの技術的な側面も興味深いです。\n",
      "\n",
      "これらの分野を学ぶことで、クジラについての理解がより深まるでしょう。\n"
     ]
    }
   ],
   "source": [
    "# 前置き付きの message list。前置き = こんにちは。こんにちは。 です。\n",
    "messages = [AIMessage(\"こんにちは。\", name=\"Bot\", id=\"1\")]\n",
    "messages.append(HumanMessage(\"こんにちは。\", name=\"Lance\", id=\"2\"))\n",
    "messages.append(\n",
    "    AIMessage(\n",
    "        \"海洋哺乳類の研究をしているとおっしゃっていましたよね？\",\n",
    "        name=\"Bot\",\n",
    "        id=\"3\",\n",
    "    )\n",
    ")\n",
    "messages.append(\n",
    "    HumanMessage(\n",
    "        \"ええ、クジラについては知っています。でも、他にどんなことを学べばいいですか？\",\n",
    "        name=\"Lance\",\n",
    "        id=\"4\",\n",
    "    )\n",
    ")\n",
    "\n",
    "# Invoke\n",
    "output = graph.invoke({\"messages\": messages})\n",
    "for m in output[\"messages\"]:\n",
    "    m.pretty_print()"
   ]
  },
  {
   "cell_type": "markdown",
   "id": "f506457d-014b-4fee-a684-e5edfb4b8f0d",
   "metadata": {},
   "source": [
    "## Filtering messages\n",
    "\n",
    "グラフの状態を変更する必要がない場合、または変更したくない場合は、チャットモデルに渡すメッセージをフィルタリングすることができます。\n",
    "\n",
    "例えば、フィルタリングされたリストを渡すだけです: `llm.invoke(messages[-1:])`をモデルに渡します。\n"
   ]
  },
  {
   "cell_type": "code",
   "execution_count": 11,
   "id": "22d0b904-7cd6-486b-8948-105bee3d4683",
   "metadata": {},
   "outputs": [
    {
     "data": {
      "image/jpeg": "[encoded data removed]",
      "text/plain": [
       "<IPython.core.display.Image object>"
      ]
     },
     "metadata": {},
     "output_type": "display_data"
    }
   ],
   "source": [
    "from langchain_core.messages.base import BaseMessage\n",
    "\n",
    "\n",
    "# Node\n",
    "def chat_model_node(state: MessagesState) -> dict[str, list[BaseMessage]]:\n",
    "    # messagesの最後の1つの要素をllmに渡して、その応答を格納する\n",
    "    return {\"messages\": [llm.invoke(state[\"messages\"][-1:])]}\n",
    "\n",
    "\n",
    "# Build graph\n",
    "builder = StateGraph(MessagesState)\n",
    "builder.add_node(\"chat_model\", chat_model_node)\n",
    "builder.add_edge(START, \"chat_model\")\n",
    "builder.add_edge(\"chat_model\", END)\n",
    "graph = builder.compile()\n",
    "\n",
    "# View\n",
    "display(Image(graph.get_graph().draw_mermaid_png()))"
   ]
  },
  {
   "cell_type": "markdown",
   "id": "6f58c6fc-532f-418d-b70a-cfcb3307daf5",
   "metadata": {},
   "source": [
    "既存のメッセージのリストを受け取り、上記の LLM の応答を追加し、フォローアップの質問を追加してみましょう。\n"
   ]
  },
  {
   "cell_type": "code",
   "execution_count": 12,
   "id": "16956015-1dbe-4108-89b5-4209b68b51ca",
   "metadata": {},
   "outputs": [],
   "source": [
    "messages.append(output[\"messages\"][-1])\n",
    "messages.append(HumanMessage(\"イッカクというクジラについて教えて下さい!\", name=\"Lance\"))"
   ]
  },
  {
   "cell_type": "code",
   "execution_count": 13,
   "id": "85563415-c085-46a8-a4ac-155df798c54e",
   "metadata": {},
   "outputs": [
    {
     "name": "stdout",
     "output_type": "stream",
     "text": [
      "==================================\u001b[1m Ai Message \u001b[0m==================================\n",
      "Name: Bot\n",
      "\n",
      "こんにちは。\n",
      "================================\u001b[1m Human Message \u001b[0m=================================\n",
      "Name: Lance\n",
      "\n",
      "こんにちは。\n",
      "==================================\u001b[1m Ai Message \u001b[0m==================================\n",
      "Name: Bot\n",
      "\n",
      "海洋哺乳類の研究をしているとおっしゃっていましたよね？\n",
      "================================\u001b[1m Human Message \u001b[0m=================================\n",
      "Name: Lance\n",
      "\n",
      "ええ、クジラについては知っています。でも、他にどんなことを学べばいいですか？\n",
      "==================================\u001b[1m Ai Message \u001b[0m==================================\n",
      "\n",
      "クジラについて学ぶ際に、以下のポイントも考慮すると良いでしょう：\n",
      "\n",
      "1. **生態学**: クジラの生息環境、餌の種類、繁殖行動について学ぶと、彼らの生態系における役割が理解できます。\n",
      "\n",
      "2. **種の多様性**: クジラには多くの種が存在します。それぞれの種の特徴や行動、分布について調べると、全体像が見えてきます。\n",
      "\n",
      "3. **コミュニケーション**: クジラの音声コミュニケーションや歌についての研究は非常に興味深いです。これにより、彼らの社会的構造や行動についても知識を深められます。\n",
      "\n",
      "4. **保全**: クジラは多くの脅威にさらされています。環境問題、捕鯨、海洋汚染など、保全に関する知識も重要です。\n",
      "\n",
      "5. **文化と歴史**: 人間とクジラの関係や、文化的な視点からのクジラの位置づけについて学ぶことも有意義です。\n",
      "\n",
      "6. **科学技術**: クジラの研究には、衛星追跡や音響技術など、最新の科学技術が利用されています。これらの技術的な側面も興味深いです。\n",
      "\n",
      "これらの分野を学ぶことで、クジラについての理解がより深まるでしょう。\n",
      "================================\u001b[1m Human Message \u001b[0m=================================\n",
      "Name: Lance\n",
      "\n",
      "イッカクというクジラについて教えて下さい!\n"
     ]
    }
   ],
   "source": [
    "for m in messages:\n",
    "    m.pretty_print()"
   ]
  },
  {
   "cell_type": "code",
   "execution_count": 14,
   "id": "23349705-a059-47b5-9760-d8f64e687393",
   "metadata": {},
   "outputs": [
    {
     "name": "stdout",
     "output_type": "stream",
     "text": [
      "==================================\u001b[1m Ai Message \u001b[0m==================================\n",
      "Name: Bot\n",
      "\n",
      "こんにちは。\n",
      "================================\u001b[1m Human Message \u001b[0m=================================\n",
      "Name: Lance\n",
      "\n",
      "こんにちは。\n",
      "==================================\u001b[1m Ai Message \u001b[0m==================================\n",
      "Name: Bot\n",
      "\n",
      "海洋哺乳類の研究をしているとおっしゃっていましたよね？\n",
      "================================\u001b[1m Human Message \u001b[0m=================================\n",
      "Name: Lance\n",
      "\n",
      "ええ、クジラについては知っています。でも、他にどんなことを学べばいいですか？\n",
      "==================================\u001b[1m Ai Message \u001b[0m==================================\n",
      "\n",
      "クジラについて学ぶ際に、以下のポイントも考慮すると良いでしょう：\n",
      "\n",
      "1. **生態学**: クジラの生息環境、餌の種類、繁殖行動について学ぶと、彼らの生態系における役割が理解できます。\n",
      "\n",
      "2. **種の多様性**: クジラには多くの種が存在します。それぞれの種の特徴や行動、分布について調べると、全体像が見えてきます。\n",
      "\n",
      "3. **コミュニケーション**: クジラの音声コミュニケーションや歌についての研究は非常に興味深いです。これにより、彼らの社会的構造や行動についても知識を深められます。\n",
      "\n",
      "4. **保全**: クジラは多くの脅威にさらされています。環境問題、捕鯨、海洋汚染など、保全に関する知識も重要です。\n",
      "\n",
      "5. **文化と歴史**: 人間とクジラの関係や、文化的な視点からのクジラの位置づけについて学ぶことも有意義です。\n",
      "\n",
      "6. **科学技術**: クジラの研究には、衛星追跡や音響技術など、最新の科学技術が利用されています。これらの技術的な側面も興味深いです。\n",
      "\n",
      "これらの分野を学ぶことで、クジラについての理解がより深まるでしょう。\n",
      "================================\u001b[1m Human Message \u001b[0m=================================\n",
      "Name: Lance\n",
      "\n",
      "イッカクというクジラについて教えて下さい!\n",
      "==================================\u001b[1m Ai Message \u001b[0m==================================\n",
      "\n",
      "イッカク（Narwhal）は、北極圏に生息するクジラの一種で、特にその特徴的な長い牙（角）で知られています。以下にイッカクについてのいくつかのポイントを挙げます。\n",
      "\n",
      "1. **外見**: イッカクのオスは、長さが約2.5メートルから3メートルに達する、一本の長い牙を持っています。この牙は実際には前歯が伸びたもので、通常は右側にのみ見られます。メスは通常、牙を持っていません。\n",
      "\n",
      "2. **生息地**: イッカクは主に北極海やグリーンランド海域に生息しており、氷に覆われた水域を好みます。\n",
      "\n",
      "3. **生態**: イッカクは群れで生活し、通常は小規模な群れ（10〜20頭程度）で行動しますが、大きな群れを形成することもあります。食性は主に魚類やイカ、甲殻類などで、海中で捕食を行います。\n",
      "\n",
      "4. **繁殖**: 繁殖期は春から初夏にかけてで、妊娠期間は約15ヶ月です。通常、1頭の子供を出産します。\n",
      "\n",
      "5. **文化的な意義**: イッカクは、北極圏の先住民の文化や伝承において重要な役割を果たしており、食料源や材料として利用されています。\n",
      "\n",
      "6. **保護状況**: イッカクは気候変動や海洋汚染、漁業の影響などにより生息数が減少しているため、いくつかの地域では保護対象となっています。\n",
      "\n",
      "イッカクはその独特な外見と生態から、多くの人々の関心を集める存在です。\n"
     ]
    }
   ],
   "source": [
    "# メッセージフィルタリングを使って起動\n",
    "output = graph.invoke({\"messages\": messages})\n",
    "for m in output[\"messages\"]:\n",
    "    m.pretty_print()"
   ]
  },
  {
   "cell_type": "markdown",
   "id": "42e1d8d2-e297-4d78-b54c-d12b3c866745",
   "metadata": {},
   "source": [
    "ステートにはすべてのメッセージがあります。\n",
    "\n",
    "しかし、LangSmith のトレースを見て、モデル呼び出しが最後のメッセージしか使っていないことを確認しましょう:\n",
    "\n",
    "https://smith.langchain.com/public/75aca3ce-ef19-4b92-94be-0178c7a660d9/r\n",
    "(注意:これは原文の英文で Chat したときのリンクです)\n"
   ]
  },
  {
   "cell_type": "markdown",
   "id": "fc40d930-3c1f-47fe-8d2a-ce174873353c",
   "metadata": {},
   "source": [
    "## Trim messages\n",
    "\n",
    "もう一つの方法は、[trim messages](https://python.langchain.com/v0.2/docs/how_to/trim_messages/#getting-the-last-max_tokens-tokens)で、トークンの数 を指定する方法です。\n",
    "\n",
    "これはメッセージの履歴を指定されたトークン数に制限します。\n",
    "\n",
    "フィルタリングはエージェント間のメッセージのポストホックサブセット(post-hoc subset)を返すだけですが、trimming はチャットモデルが応答するために使用できるトークンの数を制限します。\n",
    "\n",
    "以下の `trim_messages` を参照してください。\n"
   ]
  },
  {
   "cell_type": "code",
   "execution_count": 15,
   "id": "2ff99b81-cf03-4cc2-b44f-44829a73e1fd",
   "metadata": {},
   "outputs": [
    {
     "data": {
      "image/jpeg": "[encoded data removed]",
      "text/plain": [
       "<IPython.core.display.Image object>"
      ]
     },
     "metadata": {},
     "output_type": "display_data"
    }
   ],
   "source": [
    "from langchain_core.messages import trim_messages\n",
    "from langchain_core.messages.base import BaseMessage\n",
    "\n",
    "\n",
    "# Node\n",
    "def chat_model_node(state: MessagesState) -> dict[str, list[BaseMessage]]:\n",
    "    messages = trim_messages(\n",
    "        state[\"messages\"],\n",
    "        max_tokens=100,\n",
    "        strategy=\"last\",\n",
    "        token_counter=ChatOpenAI(model=\"gpt-4o-mini\"),\n",
    "        allow_partial=False,\n",
    "    )\n",
    "    return {\"messages\": [llm.invoke(messages)]}\n",
    "\n",
    "\n",
    "# Build graph\n",
    "builder = StateGraph(MessagesState)\n",
    "builder.add_node(\"chat_model\", chat_model_node)\n",
    "builder.add_edge(START, \"chat_model\")\n",
    "builder.add_edge(\"chat_model\", END)\n",
    "graph = builder.compile()\n",
    "\n",
    "# View\n",
    "display(Image(graph.get_graph().draw_mermaid_png()))"
   ]
  },
  {
   "cell_type": "code",
   "execution_count": 16,
   "id": "24df63ac-da29-4874-b3df-7e390e97cc8a",
   "metadata": {},
   "outputs": [],
   "source": [
    "messages.append(output[\"messages\"][-1])\n",
    "messages.append(HumanMessage(\"シャチの居場所を教えて!\", name=\"Lance\"))"
   ]
  },
  {
   "cell_type": "code",
   "execution_count": 17,
   "id": "6d9d8971-c75c-43ca-a209-eb1d07b2ead0",
   "metadata": {},
   "outputs": [
    {
     "data": {
      "text/plain": [
       "[HumanMessage(content='シャチの居場所を教えて!', additional_kwargs={}, response_metadata={}, name='Lance')]"
      ]
     },
     "execution_count": 17,
     "metadata": {},
     "output_type": "execute_result"
    }
   ],
   "source": [
    "# Example of trimming messages\n",
    "trim_messages(\n",
    "    messages,\n",
    "    max_tokens=100,\n",
    "    strategy=\"last\",\n",
    "    token_counter=ChatOpenAI(model=\"gpt-4o-mini\"),\n",
    "    allow_partial=False,\n",
    ")"
   ]
  },
  {
   "cell_type": "code",
   "execution_count": 18,
   "id": "ed70a269-a869-4fa0-a1df-29736a432c51",
   "metadata": {},
   "outputs": [],
   "source": [
    "# Invoke, using message trimming in the chat_model_node\n",
    "messages_out_trim = graph.invoke({\"messages\": messages})"
   ]
  },
  {
   "cell_type": "markdown",
   "id": "38b3db67-380e-46b5-9a6a-20100ba52008",
   "metadata": {},
   "source": [
    "LangSmith のトレースでモデルの呼び出しを見てみましょう：\n",
    "\n",
    "https://smith.langchain.com/public/b153f7e9-f1a5-4d60-8074-f0d7ab5b42ef/r (注意:これは原文の英文で Chat したときのリンクです)\n"
   ]
  }
 ],
 "metadata": {
  "kernelspec": {
   "display_name": ".venv",
   "language": "python",
   "name": "python3"
  },
  "language_info": {
   "codemirror_mode": {
    "name": "ipython",
    "version": 3
   },
   "file_extension": ".py",
   "mimetype": "text/x-python",
   "name": "python",
   "nbconvert_exporter": "python",
   "pygments_lexer": "ipython3",
   "version": "3.12.6"
  }
 },
 "nbformat": 4,
 "nbformat_minor": 5
}
