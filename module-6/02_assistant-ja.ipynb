{
 "cells": [
  {
   "cell_type": "markdown",
   "metadata": {},
   "source": [
    "# アシスタント(Assistants)\n",
    "\n",
    "[アシスタント(assistant)](https://langchain-ai.github.io/langgraph/concepts/assistants/#resources) は、開発者が実験用にエージェントを素早く簡単に修正したり、バージョンアップしたりする方法を提供します。\n",
    "\n",
    "## グラフに設定を提供\n",
    "\n",
    "この `task_maistro` グラフは既にアシスタントを使うように設定されています！ 注: マエストロ(伊: 達人): maestro ですが、それをもじってわざと mAIstro としています\n",
    "\n",
    "グラフには `configuration.py` ファイルが定義され、読み込まれています。\n",
    "\n",
    "設定可能なフィールド(`user_id`, `todo_category`, `task_maistro_role`)にはグラフのノード内でアクセスします。\n",
    "\n",
    "## アシスタントの作成\n",
    "\n",
    "さて、これまで作ってきた `task_maistro` アプリでアシスタントを使う実用的なユースケースは何でしょうか？\n",
    "\n",
    "私にとっては、異なるカテゴリのタスクに対して別々の ToDo リストを持つ機能です。\n",
    "\n",
    "例えば、個人的なタスクにはアシスタントを、仕事のタスクには別のアシスタントを使いたいのです。\n",
    "\n",
    "これらは`todo_category`と`task_maistro_role`という設定フィールドを使って簡単に設定できます。\n",
    "\n",
    "![Screenshot 2024-11-18 at 9.35.55 AM.png](https://cdn.prod.website-files.com/65b8cd72835ceeacd4449a53/673d50597f4e9eae9abf4869_Screenshot%202024-11-19%20at%206.57.01%E2%80%AFPM.png)\n"
   ]
  },
  {
   "cell_type": "code",
   "execution_count": null,
   "metadata": {},
   "outputs": [],
   "source": [
    "%%capture --no-stderr\n",
    "%pip install -U langgraph_sdk langgraph-cli"
   ]
  },
  {
   "cell_type": "markdown",
   "metadata": {},
   "source": [
    "訳注: ひとつ下のセルを実行するために必要な準備\n",
    "\n",
    "```bash\n",
    "cd module-6/deployment\n",
    "```\n",
    "\n",
    "```bash\n",
    "cp docker-compose-example.yml docker-compose.yml\n",
    "```\n",
    "\n",
    "docker-compose.yml の `OPENAI_API_KEY` と `LANGSMITH_API_KEY` を設定してください。\n",
    "\n",
    "注: 以下のコマンドを実行するには、あらかじめ [langgraph-cli](https://pypi.org/project/langgraph-cli/) のインストールしておいてください\n",
    "\n",
    "```bash\n",
    "langgraph build -t my-image\n",
    "docker compose up\n",
    "```\n"
   ]
  },
  {
   "cell_type": "markdown",
   "metadata": {},
   "source": [
    "これはグラフをデプロイしたときに作成したデフォルトのアシスタントです。\n"
   ]
  },
  {
   "cell_type": "code",
   "execution_count": 1,
   "metadata": {},
   "outputs": [],
   "source": [
    "from langgraph_sdk import get_client\n",
    "\n",
    "url_for_cli_deployment = \"http://localhost:8123\"\n",
    "client = get_client(url=url_for_cli_deployment)"
   ]
  },
  {
   "cell_type": "markdown",
   "metadata": {},
   "source": [
    "### Personal assistant\n",
    "\n",
    "これは、私が個人的なタスクを管理するために使用するパーソナルアシスタントです。\n"
   ]
  },
  {
   "cell_type": "code",
   "execution_count": 2,
   "metadata": {},
   "outputs": [
    {
     "name": "stdout",
     "output_type": "stream",
     "text": [
      "{\n",
      "    \"assistant_id\": \"a3a7a7c7-98ff-4bc8-8639-109995483596\",\n",
      "    \"graph_id\": \"task_maistro\",\n",
      "    \"created_at\": \"2024-11-24T07:39:12.961883+00:00\",\n",
      "    \"updated_at\": \"2024-11-24T07:39:12.961883+00:00\",\n",
      "    \"config\": {\n",
      "        \"configurable\": {\n",
      "            \"todo_category\": \"personal\"\n",
      "        }\n",
      "    },\n",
      "    \"metadata\": {},\n",
      "    \"version\": 1,\n",
      "    \"name\": \"Untitled\"\n",
      "}\n"
     ]
    }
   ],
   "source": [
    "import json\n",
    "\n",
    "personal_assistant = await client.assistants.create(\n",
    "    # \"task_maistro\" はデプロイしたグラフの名前です。\n",
    "    graph_id=\"task_maistro\",\n",
    "    config={\"configurable\": {\"todo_category\": \"personal\"}},\n",
    ")\n",
    "print(json.dumps(personal_assistant, indent=4, ensure_ascii=False))"
   ]
  },
  {
   "cell_type": "markdown",
   "metadata": {},
   "source": [
    "私の`user_id`を含むようにこのアシスタントを更新して、[新しいバージョンを作成](https://langchain-ai.github.io/langgraph/cloud/how-tos/assistant_versioning/#create-a-new-version-for-your-assistant)しましょう。\n"
   ]
  },
  {
   "cell_type": "code",
   "execution_count": 3,
   "metadata": {},
   "outputs": [
    {
     "name": "stdout",
     "output_type": "stream",
     "text": [
      "{\n",
      "    \"assistant_id\": \"a3a7a7c7-98ff-4bc8-8639-109995483596\",\n",
      "    \"graph_id\": \"task_maistro\",\n",
      "    \"created_at\": \"2024-11-24T07:39:16.328286+00:00\",\n",
      "    \"updated_at\": \"2024-11-24T07:39:16.328286+00:00\",\n",
      "    \"config\": {\n",
      "        \"configurable\": {\n",
      "            \"user_id\": \"lance\",\n",
      "            \"todo_category\": \"personal\",\n",
      "            \"task_maistro_role\": \"あなたはフレンドリーで組織的な個人タスクアシスタントです。あなたの主な仕事は、ユーザーが個人的なタスクやコミットメントを管理できるようにすることです。\\n具体的には:\\n\\n- 個人的なタスクの追跡と整理を支援する\\n- 「Todo サマリー」を提供する場合:\\n    1. 期限（期限切れ、今日、今週、将来）ごとにグループ化された現在のタスクをすべてリストアップする\\n    2. 期限を過ぎているタスクを強調し、追加するようやさしく勧める\\n    3. 重要だと思われるタスクでも、見積もり時間が不足している場合は注意してください。\\n- 重要と思われるが、時間の見積もりがないタスクが追加されたら、積極的に期限を尋ねる\\n- ユーザーの説明責任を果たせるようにサポートしながら、サポート的な口調を保つ\\n- 期限と重要性に基づいてタスクの優先順位を決める手助けをする\\n\\nあなたのコミュニケーションスタイルは、励ましと手助けであるべきで、決して批判的であってはいけません。\\n\\nタスクに期限がない場合は、「[タスク]にはまだ期限がありませんね。タスクの進捗状況を把握しやすくするために、期限を追加しますか？」 のように返答してください。\\nタスクの追跡を向上させるために、追加しますか？\"\n",
      "        }\n",
      "    },\n",
      "    \"metadata\": {},\n",
      "    \"version\": 2,\n",
      "    \"name\": \"Untitled\"\n",
      "}\n"
     ]
    }
   ],
   "source": [
    "task_maistro_role = \"\"\"\\\n",
    "あなたはフレンドリーで組織的な個人タスクアシスタントです。あなたの主な仕事は、ユーザーが個人的なタスクやコミットメントを管理できるようにすることです。\n",
    "具体的には:\n",
    "\n",
    "- 個人的なタスクの追跡と整理を支援する\n",
    "- 「Todo サマリー」を提供する場合:\n",
    "    1. 期限（期限切れ、今日、今週、将来）ごとにグループ化された現在のタスクをすべてリストアップする\n",
    "    2. 期限を過ぎているタスクを強調し、追加するようやさしく勧める\n",
    "    3. 重要だと思われるタスクでも、見積もり時間が不足している場合は注意してください。\n",
    "- 重要と思われるが、時間の見積もりがないタスクが追加されたら、積極的に期限を尋ねる\n",
    "- ユーザーの説明責任を果たせるようにサポートしながら、サポート的な口調を保つ\n",
    "- 期限と重要性に基づいてタスクの優先順位を決める手助けをする\n",
    "\n",
    "あなたのコミュニケーションスタイルは、励ましと手助けであるべきで、決して批判的であってはいけません。\n",
    "\n",
    "タスクに期限がない場合は、「[タスク]にはまだ期限がありませんね。タスクの進捗状況を把握しやすくするために、期限を追加しますか？」 のように返答してください。\n",
    "タスクの追跡を向上させるために、追加しますか？\"\"\"\n",
    "\n",
    "configurations = {\n",
    "    \"todo_category\": \"personal\",\n",
    "    \"user_id\": \"lance\",\n",
    "    \"task_maistro_role\": task_maistro_role,\n",
    "}\n",
    "\n",
    "personal_assistant = await client.assistants.update(\n",
    "    assistant_id=personal_assistant[\"assistant_id\"], config={\"configurable\": configurations}\n",
    ")\n",
    "print(json.dumps(personal_assistant, indent=4, ensure_ascii=False))"
   ]
  },
  {
   "cell_type": "markdown",
   "metadata": {},
   "source": [
    "### Work assistant\n",
    "\n",
    "では、ワークアシスタントを作りましょう。これを仕事のタスクに使います。\n"
   ]
  },
  {
   "cell_type": "code",
   "execution_count": 4,
   "metadata": {},
   "outputs": [
    {
     "name": "stdout",
     "output_type": "stream",
     "text": [
      "{\n",
      "    \"assistant_id\": \"93355ff8-de80-4935-8fe8-490ca4f89595\",\n",
      "    \"graph_id\": \"task_maistro\",\n",
      "    \"created_at\": \"2024-11-24T07:39:25.841333+00:00\",\n",
      "    \"updated_at\": \"2024-11-24T07:39:25.841333+00:00\",\n",
      "    \"config\": {\n",
      "        \"configurable\": {\n",
      "            \"user_id\": \"lance\",\n",
      "            \"todo_category\": \"work\",\n",
      "            \"task_maistro_role\": \"あなたは、集中して効率的に作業タスクを支援するアシスタントです。\\n\\nあなたの主な焦点は、ユーザーが現実的な時間枠で仕事のコミットメントを管理するのを支援することです。\\n\\n具体的には:\\n\\n- 仕事のタスクの追跡と整理を支援する\\n- \\\"todo summary\\\" を提供するとき:\\n    1. 現在のすべてのタスクを期限別にグループ化してリストにする（期限切れ、本日、今週、将来）\\n    2. 期限が設定されていないタスクを強調し、優しく追加を促す\\n    3. 重要なタスクで時間見積もりが不足しているものを指摘する\\n- 新しいタスクについて議論するときは、タスクのタイプに応じた現実的な時間枠を提示するようにユーザーに提案しましょう:\\n    - ディベロッパーリレーションズの機能: 通常1日\\n    - コースレッスンのレビュー/フィードバック: 通常2日\\n    - ドキュメントスプリント: 通常3日\\n- 期限とチーム依存関係に基づいてタスクの優先順位を手助けする\\n- ユーザーが責任を持つよう支援しつつ、プロフェッショナルな口調を保つ\\n\\nあなたのコミュニケーションスタイルは、支援的でありながら実用的であるべきです。\\n\\nタスクに期限が設定されていない場合、「[タスク]にはまだ期限が設定されていないことに気付きました。類似のタスクに基づくと、これには[提案された時間枠]がかかるかもしれません。このことを考慮して期限を設定しますか？」のように返答します。\\n\"\n",
      "        }\n",
      "    },\n",
      "    \"metadata\": {},\n",
      "    \"version\": 1,\n",
      "    \"name\": \"Untitled\"\n",
      "}\n"
     ]
    }
   ],
   "source": [
    "task_maistro_role = \"\"\"\\\n",
    "あなたは、集中して効率的に作業タスクを支援するアシスタントです。\n",
    "\n",
    "あなたの主な焦点は、ユーザーが現実的な時間枠で仕事のコミットメントを管理するのを支援することです。\n",
    "\n",
    "具体的には:\n",
    "\n",
    "- 仕事のタスクの追跡と整理を支援する\n",
    "- \"todo summary\" を提供するとき:\n",
    "    1. 現在のすべてのタスクを期限別にグループ化してリストにする（期限切れ、本日、今週、将来）\n",
    "    2. 期限が設定されていないタスクを強調し、優しく追加を促す\n",
    "    3. 重要なタスクで時間見積もりが不足しているものを指摘する\n",
    "- 新しいタスクについて議論するときは、タスクのタイプに応じた現実的な時間枠を提示するようにユーザーに提案しましょう:\n",
    "    - ディベロッパーリレーションズの機能: 通常1日\n",
    "    - コースレッスンのレビュー/フィードバック: 通常2日\n",
    "    - ドキュメントスプリント: 通常3日\n",
    "- 期限とチーム依存関係に基づいてタスクの優先順位を手助けする\n",
    "- ユーザーが責任を持つよう支援しつつ、プロフェッショナルな口調を保つ\n",
    "\n",
    "あなたのコミュニケーションスタイルは、支援的でありながら実用的であるべきです。\n",
    "\n",
    "タスクに期限が設定されていない場合、「[タスク]にはまだ期限が設定されていないことに気付きました。類似のタスクに基づくと、これには[提案された時間枠]がかかるかもしれません。このことを考慮して期限を設定しますか？」のように返答します。\n",
    "\"\"\"\n",
    "\n",
    "configurations = {\n",
    "    \"todo_category\": \"work\",\n",
    "    \"user_id\": \"lance\",\n",
    "    \"task_maistro_role\": task_maistro_role,\n",
    "}\n",
    "\n",
    "work_assistant = await client.assistants.create(\n",
    "    # \"task_maistro\" is the name of a graph we deployed\n",
    "    graph_id=\"task_maistro\",\n",
    "    config={\"configurable\": configurations},\n",
    ")\n",
    "\n",
    "print(json.dumps(work_assistant, indent=4, ensure_ascii=False))"
   ]
  },
  {
   "cell_type": "markdown",
   "metadata": {},
   "source": [
    "## Using assistants\n",
    "\n",
    "アシスタントはデプロイ時に`Postgres`に保存されます。\n",
    "\n",
    "これにより、SDK でアシスタントを簡単に検索[search](https://langchain-ai.github.io/langgraph/cloud/how-tos/configuration_cloud/)することができます。\n"
   ]
  },
  {
   "cell_type": "code",
   "execution_count": 5,
   "metadata": {},
   "outputs": [
    {
     "name": "stdout",
     "output_type": "stream",
     "text": [
      "{\n",
      "    \"assistant_id\": \"93355ff8-de80-4935-8fe8-490ca4f89595\",\n",
      "    \"version\": 1,\n",
      "    \"config\": {\n",
      "        \"configurable\": {\n",
      "            \"user_id\": \"lance\",\n",
      "            \"todo_category\": \"work\",\n",
      "            \"task_maistro_role\": \"あなたは、集中して効率的に作業タスクを支援するアシスタントです。\\n\\nあなたの主な焦点は、ユーザーが現実的な時間枠で仕事のコミットメントを管理するのを支援することです。\\n\\n具体的には:\\n\\n- 仕事のタスクの追跡と整理を支援する\\n- \\\"todo summary\\\" を提供するとき:\\n    1. 現在のすべてのタスクを期限別にグループ化してリストにする（期限切れ、本日、今週、将来）\\n    2. 期限が設定されていないタスクを強調し、優しく追加を促す\\n    3. 重要なタスクで時間見積もりが不足しているものを指摘する\\n- 新しいタスクについて議論するときは、タスクのタイプに応じた現実的な時間枠を提示するようにユーザーに提案しましょう:\\n    - ディベロッパーリレーションズの機能: 通常1日\\n    - コースレッスンのレビュー/フィードバック: 通常2日\\n    - ドキュメントスプリント: 通常3日\\n- 期限とチーム依存関係に基づいてタスクの優先順位を手助けする\\n- ユーザーが責任を持つよう支援しつつ、プロフェッショナルな口調を保つ\\n\\nあなたのコミュニケーションスタイルは、支援的でありながら実用的であるべきです。\\n\\nタスクに期限が設定されていない場合、「[タスク]にはまだ期限が設定されていないことに気付きました。類似のタスクに基づくと、これには[提案された時間枠]がかかるかもしれません。このことを考慮して期限を設定しますか？」のように返答します。\\n\"\n",
      "        }\n",
      "    }\n",
      "}\n",
      "{\n",
      "    \"assistant_id\": \"a3a7a7c7-98ff-4bc8-8639-109995483596\",\n",
      "    \"version\": 2,\n",
      "    \"config\": {\n",
      "        \"configurable\": {\n",
      "            \"user_id\": \"lance\",\n",
      "            \"todo_category\": \"personal\",\n",
      "            \"task_maistro_role\": \"あなたはフレンドリーで組織的な個人タスクアシスタントです。あなたの主な仕事は、ユーザーが個人的なタスクやコミットメントを管理できるようにすることです。\\n具体的には:\\n\\n- 個人的なタスクの追跡と整理を支援する\\n- 「Todo サマリー」を提供する場合:\\n    1. 期限（期限切れ、今日、今週、将来）ごとにグループ化された現在のタスクをすべてリストアップする\\n    2. 期限を過ぎているタスクを強調し、追加するようやさしく勧める\\n    3. 重要だと思われるタスクでも、見積もり時間が不足している場合は注意してください。\\n- 重要と思われるが、時間の見積もりがないタスクが追加されたら、積極的に期限を尋ねる\\n- ユーザーの説明責任を果たせるようにサポートしながら、サポート的な口調を保つ\\n- 期限と重要性に基づいてタスクの優先順位を決める手助けをする\\n\\nあなたのコミュニケーションスタイルは、励ましと手助けであるべきで、決して批判的であってはいけません。\\n\\nタスクに期限がない場合は、「[タスク]にはまだ期限がありませんね。タスクの進捗状況を把握しやすくするために、期限を追加しますか？」 のように返答してください。\\nタスクの追跡を向上させるために、追加しますか？\"\n",
      "        }\n",
      "    }\n",
      "}\n",
      "{\n",
      "    \"assistant_id\": \"a25dcb41-bebb-41d5-8957-70567ae87817\",\n",
      "    \"version\": 2,\n",
      "    \"config\": {\n",
      "        \"configurable\": {\n",
      "            \"user_id\": \"lance\",\n",
      "            \"todo_category\": \"personal\",\n",
      "            \"task_maistro_role\": \"あなたはフレンドリーで組織的な個人タスクアシスタントです。あなたの主な仕事は、ユーザーが個人的なタスクやコミットメントを管理できるようにすることです。\\n具体的には:\\n\\n- 個人的なタスクの追跡と整理を支援する\\n- 「Todo サマリー」を提供する場合:\\n    1. 期限（期限切れ、今日、今週、将来）ごとにグループ化された現在のタスクをすべてリストアップする\\n    2. 期限を過ぎているタスクを強調し、追加するようやさしく勧める\\n    3. 重要だと思われるタスクでも、見積もり時間が不足している場合は注意してください。\\n- 重要と思われるが、時間の見積もりがないタスクが追加されたら、積極的に期限を尋ねる\\n- ユーザーの説明責任を果たせるようにサポートしながら、サポート的な口調を保つ\\n- 期限と重要性に基づいてタスクの優先順位を決める手助けをする\\n\\nあなたのコミュニケーションスタイルは、励ましと手助けであるべきで、決して批判的であってはいけません。\\n\\nタスクに期限がない場合は、「[タスク]にはまだ期限がありませんね。タスクの進捗状況を把握しやすくするために、期限を追加しますか？」 のように返答してください。\\nタスクの追跡を向上させるために、追加しますか？\"\n",
      "        }\n",
      "    }\n",
      "}\n",
      "{\n",
      "    \"assistant_id\": \"996c0ca2-b3e7-4f62-b80a-15fdb771f704\",\n",
      "    \"version\": 1,\n",
      "    \"config\": {\n",
      "        \"configurable\": {\n",
      "            \"user_id\": \"lance\",\n",
      "            \"todo_category\": \"work\",\n",
      "            \"task_maistro_role\": \"あなたは、集中して効率的に作業タスクを支援するアシスタントです。\\n\\nあなたの主な焦点は、ユーザーが現実的な時間枠で仕事のコミットメントを管理するのを支援することです。\\n\\n具体的には:\\n\\n- 仕事のタスクの追跡と整理を支援する\\n- \\\"todo summary\\\" を提供するとき:\\n    1. 現在のすべてのタスクを期限別にグループ化してリストにする（期限切れ、本日、今週、将来）\\n    2. 期限が設定されていないタスクを強調し、優しく追加を促す\\n    3. 重要なタスクで時間見積もりが不足しているものを指摘する\\n- 新しいタスクについて議論するときは、タスクのタイプに応じた現実的な時間枠を提示するようにユーザーに提案しましょう:\\n    - ディベロッパーリレーションズの機能: 通常1日\\n    - コースレッスンのレビュー/フィードバック: 通常2日\\n    - ドキュメントスプリント: 通常3日\\n- 期限とチーム依存関係に基づいてタスクの優先順位を手助けする\\n- ユーザーが責任を持つよう支援しつつ、プロフェッショナルな口調を保つ\\n\\nあなたのコミュニケーションスタイルは、支援的でありながら実用的であるべきです。\\n\\nタスクに期限が設定されていない場合、「[タスク]にはまだ期限が設定されていないことに気付きました。類似のタスクに基づくと、これには[提案された時間枠]がかかるかもしれません。このことを考慮して期限を設定しますか？」のように返答します。\\n\"\n",
      "        }\n",
      "    }\n",
      "}\n",
      "{\n",
      "    \"assistant_id\": \"84649b2d-fffa-4129-9b40-11907ac27db2\",\n",
      "    \"version\": 1,\n",
      "    \"config\": {\n",
      "        \"configurable\": {\n",
      "            \"todo_category\": \"personal\"\n",
      "        }\n",
      "    }\n",
      "}\n",
      "{\n",
      "    \"assistant_id\": \"30e4d682-86ad-414f-aa54-4f4cbef65924\",\n",
      "    \"version\": 2,\n",
      "    \"config\": {\n",
      "        \"configurable\": {\n",
      "            \"user_id\": \"lance\",\n",
      "            \"todo_category\": \"personal\",\n",
      "            \"task_maistro_role\": \"You are a friendly and organized personal task assistant. Your main focus is helping users stay on top of their personal tasks and commitments. Specifically:\\n\\n- Help track and organize personal tasks\\n- When providing a 'todo summary':\\n  1. List all current tasks grouped by deadline (overdue, today, this week, future)\\n  2. Highlight any tasks missing deadlines and gently encourage adding them\\n  3. Note any tasks that seem important but lack time estimates\\n- Proactively ask for deadlines when new tasks are added without them\\n- Maintain a supportive tone while helping the user stay accountable\\n- Help prioritize tasks based on deadlines and importance\\n\\nYour communication style should be encouraging and helpful, never judgmental.\\n\\nWhen tasks are missing deadlines, respond with something like \\\"I notice [task] doesn't have a deadline yet. Would you like to add one to help us track it better?\"\n",
      "        }\n",
      "    }\n",
      "}\n",
      "{\n",
      "    \"assistant_id\": \"ea4ebafa-a81d-5063-a5fa-67c755d98a21\",\n",
      "    \"version\": 1,\n",
      "    \"config\": {}\n",
      "}\n"
     ]
    }
   ],
   "source": [
    "assistants = await client.assistants.search()\n",
    "for assistant in assistants:\n",
    "    print(\n",
    "        json.dumps(\n",
    "            {\"assistant_id\": assistant[\"assistant_id\"], \"version\": assistant[\"version\"], \"config\": assistant[\"config\"]},\n",
    "            indent=4,\n",
    "            ensure_ascii=False,\n",
    "        )\n",
    "    )\n"
   ]
  },
  {
   "cell_type": "markdown",
   "metadata": {},
   "source": [
    "SDK で簡単に管理できます。例えば、使わなくなったアシスタントを削除することができます。\n"
   ]
  },
  {
   "cell_type": "code",
   "execution_count": 6,
   "metadata": {},
   "outputs": [],
   "source": [
    "# このIDは上記で実行したIDを使ってください。\n",
    "# このアシスタントは後で使うので、消すのはやめておいてください。\n",
    "# your_assistant_id =\"a25dcb41-bebb-41d5-8957-70567ae87817\" # 例です。\n",
    "# await client.assistants.delete(assistant_id=your_assistant_id)\n"
   ]
  },
  {
   "cell_type": "markdown",
   "metadata": {},
   "source": [
    "`個人用`と`仕事用`のアシスタント ID を設定してみましょう。\n"
   ]
  },
  {
   "cell_type": "code",
   "execution_count": 7,
   "metadata": {},
   "outputs": [],
   "source": [
    "work_assistant_id = assistants[0][\"assistant_id\"]\n",
    "personal_assistant_id = assistants[1][\"assistant_id\"]"
   ]
  },
  {
   "cell_type": "markdown",
   "metadata": {},
   "source": [
    "### Work assistant\n",
    "\n",
    "仕事用のアシスタントに ToDo を追加しましょう。\n"
   ]
  },
  {
   "cell_type": "code",
   "execution_count": 8,
   "metadata": {},
   "outputs": [
    {
     "name": "stdout",
     "output_type": "stream",
     "text": [
      "================================\u001b[1m Human Message \u001b[0m=================================\n",
      "\n",
      "いくつかのToDoを作成または更新します:  1) 今日中にモジュール6、レッスン5を再撮影。2) 来週月曜日までにオーディオUXを更新。\n"
     ]
    }
   ],
   "source": [
    "from langchain_core.messages import HumanMessage\n",
    "from langchain_core.messages import convert_to_messages\n",
    "\n",
    "user_input = \"いくつかのToDoを作成または更新します:  1) 今日中にモジュール6、レッスン5を再撮影。2) 来週月曜日までにオーディオUXを更新。\"\n",
    "thread = await client.threads.create()\n",
    "async for chunk in client.runs.stream(\n",
    "    thread_id=thread[\"thread_id\"],\n",
    "    assistant_id=work_assistant_id,\n",
    "    input={\"messages\": [HumanMessage(content=user_input)]},\n",
    "    stream_mode=\"values\",\n",
    "):\n",
    "    if chunk.event == \"values\":\n",
    "        state = chunk.data\n",
    "        convert_to_messages(messages=state[\"messages\"])[-1].pretty_print()"
   ]
  },
  {
   "cell_type": "code",
   "execution_count": 13,
   "metadata": {},
   "outputs": [
    {
     "name": "stdout",
     "output_type": "stream",
     "text": [
      "================================\u001b[1m Human Message \u001b[0m=================================\n",
      "\n",
      "もうひとつToDoを作成してください: レポート生成チュートリアル集を仕上げる\n"
     ]
    }
   ],
   "source": [
    "user_input = \"もうひとつToDoを作成してください: レポート生成チュートリアル集を仕上げる\"\n",
    "thread = await client.threads.create()\n",
    "async for chunk in client.runs.stream(\n",
    "    thread_id=thread[\"thread_id\"],\n",
    "    assistant_id=work_assistant_id,\n",
    "    input={\"messages\": [HumanMessage(content=user_input)]},\n",
    "    stream_mode=\"values\",\n",
    "):\n",
    "    if chunk.event == \"values\":\n",
    "        state = chunk.data\n",
    "        convert_to_messages(messages=state[\"messages\"])[-1].pretty_print()"
   ]
  },
  {
   "cell_type": "markdown",
   "metadata": {},
   "source": [
    "訳注: assistant.ipynb を見ると、 Tool Calls UpdateMemory が呼ばれているが、各種プロンプトを日本語で書いたためか呼ばれていない\n"
   ]
  },
  {
   "cell_type": "markdown",
   "metadata": {},
   "source": [
    "アシスタントの指示に従い、タスクの作成を進めます！\n",
    "\n",
    "期限を指定してください\n"
   ]
  },
  {
   "cell_type": "code",
   "execution_count": 14,
   "metadata": {},
   "outputs": [
    {
     "name": "stdout",
     "output_type": "stream",
     "text": [
      "================================\u001b[1m Human Message \u001b[0m=================================\n",
      "\n",
      "よし、この仕事は来週の火曜日までに終わらせましょう。\n"
     ]
    }
   ],
   "source": [
    "user_input = \"よし、この仕事は来週の火曜日までに終わらせましょう。\"\n",
    "async for chunk in client.runs.stream(\n",
    "    thread_id=thread[\"thread_id\"],\n",
    "    assistant_id=work_assistant_id,\n",
    "    input={\"messages\": [HumanMessage(content=user_input)]},\n",
    "    stream_mode=\"values\",\n",
    "):\n",
    "    if chunk.event == \"values\":\n",
    "        state = chunk.data\n",
    "        convert_to_messages(messages=state[\"messages\"])[-1].pretty_print()"
   ]
  },
  {
   "cell_type": "markdown",
   "metadata": {},
   "source": [
    "### Personal assistant\n",
    "\n",
    "同様に、パーソナルアシスタントにも ToDo を追加できます\n"
   ]
  },
  {
   "cell_type": "code",
   "execution_count": 15,
   "metadata": {},
   "outputs": [
    {
     "name": "stdout",
     "output_type": "stream",
     "text": [
      "================================\u001b[1m Human Message \u001b[0m=================================\n",
      "\n",
      "ToDoを作成します:  1) 今週末に赤ちゃんの水泳教室をチェック。2) 冬の旅行のために、アメックスのポイントをチェック。\n"
     ]
    }
   ],
   "source": [
    "user_input = (\n",
    "    \"ToDoを作成します:  1) 今週末に赤ちゃんの水泳教室をチェック。2) 冬の旅行のために、アメックスのポイントをチェック。\"\n",
    ")\n",
    "thread = await client.threads.create()\n",
    "async for chunk in client.runs.stream(\n",
    "    thread_id=thread[\"thread_id\"],\n",
    "    assistant_id=personal_assistant_id,\n",
    "    input={\"messages\": [HumanMessage(content=user_input)]},\n",
    "    stream_mode=\"values\",\n",
    "):\n",
    "    if chunk.event == \"values\":\n",
    "        state = chunk.data\n",
    "        convert_to_messages(state[\"messages\"])[-1].pretty_print()"
   ]
  },
  {
   "cell_type": "code",
   "execution_count": 16,
   "metadata": {},
   "outputs": [
    {
     "name": "stdout",
     "output_type": "stream",
     "text": [
      "================================\u001b[1m Human Message \u001b[0m=================================\n",
      "\n",
      "ToDoのまとめを教えてください。\n"
     ]
    }
   ],
   "source": [
    "user_input = \"ToDoのまとめを教えてください。\"\n",
    "thread = await client.threads.create()\n",
    "async for chunk in client.runs.stream(\n",
    "    thread_id=thread[\"thread_id\"],\n",
    "    assistant_id=personal_assistant_id,\n",
    "    input={\"messages\": [HumanMessage(content=user_input)]},\n",
    "    stream_mode=\"values\",\n",
    "):\n",
    "    if chunk.event == \"values\":\n",
    "        state = chunk.data\n",
    "        convert_to_messages(state[\"messages\"])[-1].pretty_print()"
   ]
  }
 ],
 "metadata": {
  "kernelspec": {
   "display_name": ".venv",
   "language": "python",
   "name": "python3"
  },
  "language_info": {
   "codemirror_mode": {
    "name": "ipython",
    "version": 3
   },
   "file_extension": ".py",
   "mimetype": "text/x-python",
   "name": "python",
   "nbconvert_exporter": "python",
   "pygments_lexer": "ipython3",
   "version": "3.12.3"
  }
 },
 "nbformat": 4,
 "nbformat_minor": 4
}
