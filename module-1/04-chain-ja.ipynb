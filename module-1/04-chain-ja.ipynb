{
 "cells": [
  {
   "cell_type": "markdown",
   "id": "4cbf2458",
   "metadata": {},
   "source": [
    "[![Open in Colab](https://colab.research.google.com/assets/colab-badge.svg)](https://colab.research.google.com/github/langchain-ai/langchain-academy/blob/main/module-1/chain.ipynb) [![Open in LangChain Academy](https://cdn.prod.website-files.com/65b8cd72835ceeacd4449a53/66e9eba12c7b7688aa3dbb5e_LCA-badge-green.svg)](https://academy.langchain.com/courses/take/intro-to-langgraph/lessons/58238466-lesson-4-chain)\n"
   ]
  },
  {
   "attachments": {},
   "cell_type": "markdown",
   "id": "ee55d3da-c53a-4c76-b46f-8e0d602e072e",
   "metadata": {},
   "source": [
    "# Chain\n",
    "\n",
    "## Review(復習)\n",
    "\n",
    "前回は、ノード、通常エッジ、条件付きエッジを使用してシンプルなグラフを作成しました。\n",
    "\n",
    "## Goals\n",
    "\n",
    "次に、4 つの[概念](https://python.langchain.com/v0.3/docs/concepts/)を組み合わせたシンプルなチェーンを作成してみましょう。\n",
    "\n",
    "- [チャットメッセージ](https://python.langchain.com/v0.3/docs/concepts/#messages) をグラフの状態として使用する\n",
    "- [チャットモデル](https://python.langchain.com/v0.3/docs/concepts/#chat-models) をグラフノードで使用する\n",
    "- [バインディングツール](https://python.langchain.com/v0.3/docs/concepts/#tools) をチャットモデルに適用\n",
    "- グラフノードで[ツール呼び出しを実行](https://python.langchain.com/v0.3/docs/concepts/#functiontool-calling)\n",
    "\n",
    "![Screenshot 2024-08-21 at 9.24.03 AM.png](https://cdn.prod.website-files.com/65b8cd72835ceeacd4449a53/66dbab08dd607b08df5e1101_chain1.png)\n"
   ]
  },
  {
   "cell_type": "code",
   "execution_count": 1,
   "id": "a55e2e80-a718-4aaf-99b9-371157b34a4b",
   "metadata": {},
   "outputs": [],
   "source": [
    "# uv を使っている場合は特にインストール不要\n",
    "%%capture --no-stderr\n",
    "%pip install --quiet -U langchain_openai langchain_core langgraph"
   ]
  },
  {
   "cell_type": "markdown",
   "id": "ae5ac2d0-c7b0-4a20-86e5-4b6ed15ec20e",
   "metadata": {},
   "source": [
    "## Messages\n",
    "\n",
    "チャットモデルは [`messages`](https://python.langchain.com/v0.3/docs/concepts/#messages) を使用でき、会話内のさまざまな役割を担います。\n",
    "\n",
    "LangChain は、`HumanMessage`、`AIMessage`、`SystemMessage`、`ToolMessage` など、さまざまなメッセージタイプをサポートしています。\n",
    "\n",
    "これらは、ユーザーからのメッセージ、チャットモデルからのメッセージ、チャットモデルが動作を指示するためのメッセージ、ツール呼び出しからのメッセージを表します。\n",
    "\n",
    "メッセージのリストを作成してみましょう。\n",
    "\n",
    "各メッセージには、いくつかの情報を付与することができます。\n",
    "\n",
    "- `content` - メッセージの内容\n",
    "- `name` - 追加任意。メッセージの送信者\n",
    "- `response_metadata` - 追加任意。メタデータの辞書(例えば、モデルプロバイダが `AIMessages` 用に用意することが多い)\n"
   ]
  },
  {
   "cell_type": "code",
   "execution_count": 6,
   "id": "866b5321-a238-4a9e-af9e-f11a131b5f11",
   "metadata": {},
   "outputs": [
    {
     "name": "stdout",
     "output_type": "stream",
     "text": [
      "==================================\u001b[1m Ai Message \u001b[0m==================================\n",
      "Name: Model\n",
      "\n",
      "海洋哺乳類の研究をされているのですか？\n",
      "================================\u001b[1m Human Message \u001b[0m=================================\n",
      "Name: Lance\n",
      "\n",
      "はい、そうです。\n",
      "==================================\u001b[1m Ai Message \u001b[0m==================================\n",
      "Name: Model\n",
      "\n",
      "いいですね、何について学びたいですか？\n",
      "================================\u001b[1m Human Message \u001b[0m=================================\n",
      "Name: Lance\n",
      "\n",
      "アメリカでシャチを見るのに最適な場所について知りたいです。\n"
     ]
    }
   ],
   "source": [
    "from langchain_core.messages import AIMessage, HumanMessage\n",
    "\n",
    "messages = [AIMessage(content=\"海洋哺乳類の研究をされているのですか？\", name=\"Model\")]\n",
    "messages.append(HumanMessage(content=\"はい、そうです。\", name=\"Lance\"))\n",
    "messages.append(AIMessage(content=\"いいですね、何について学びたいですか？\", name=\"Model\"))\n",
    "messages.append(HumanMessage(content=\"アメリカでシャチを見るのに最適な場所について知りたいです。\", name=\"Lance\"))\n",
    "\n",
    "for m in messages:\n",
    "    m.pretty_print()"
   ]
  },
  {
   "cell_type": "markdown",
   "id": "0ca48df0-b639-4ff1-a777-ffe2185d991e",
   "metadata": {},
   "source": [
    "## Chat Models\n",
    "\n",
    "[チャットモデル](https://python.langchain.com/v0.2/docs/concepts/#chat-models) は、メッセージのシーケンスを入力として使用し、前述のとおり、メッセージタイプをサポートすることができます。\n",
    "\n",
    "選択肢はたくさんあります(https://python.langchain.com/v0.2/docs/concepts/#chat-models)。OpenAIで作業してみましょう。\n",
    "\n",
    "`OPENAI_API_KEY` が設定されていることを確認し、設定されていない場合は入力するように求められます。\n",
    "\n",
    "注意: リンクは langchain v0.2 のドキュメントにリンクしているものの、poetry で環境を作ると langchain v0.3 を使用しているはずです。\n"
   ]
  },
  {
   "cell_type": "code",
   "execution_count": 7,
   "id": "2652d5ec-7602-4220-bc6e-b90783ab287b",
   "metadata": {},
   "outputs": [],
   "source": [
    "import os\n",
    "import getpass\n",
    "\n",
    "\n",
    "def _set_env(var: str) -> None:\n",
    "    if not os.environ.get(var):\n",
    "        os.environ[var] = getpass.getpass(f\"{var}: \")\n",
    "\n",
    "\n",
    "_set_env(\"OPENAI_API_KEY\")"
   ]
  },
  {
   "cell_type": "markdown",
   "id": "ceae53d4-14f5-4bf3-a953-cc465240f5b5",
   "metadata": {},
   "source": [
    "チャットモデルを読み込んで、メッセージの一覧を表示せずに呼び出すことができます。\n",
    "\n",
    "その結果は、特定の `response_metadata` を持つ `AIMessage` であることがわかります。\n"
   ]
  },
  {
   "cell_type": "code",
   "execution_count": 8,
   "id": "95b99ad4-5753-49d3-a916-a9e949722c01",
   "metadata": {},
   "outputs": [
    {
     "data": {
      "text/plain": [
       "langchain_core.messages.ai.AIMessage"
      ]
     },
     "execution_count": 8,
     "metadata": {},
     "output_type": "execute_result"
    }
   ],
   "source": [
    "from langchain_openai import ChatOpenAI\n",
    "\n",
    "llm = ChatOpenAI(model=\"gpt-4o-mini\")\n",
    "result = llm.invoke(messages)\n",
    "type(result)"
   ]
  },
  {
   "cell_type": "code",
   "execution_count": 9,
   "id": "88d60338-c892-4d04-a83f-878de4a76a6a",
   "metadata": {},
   "outputs": [
    {
     "data": {
      "text/plain": [
       "AIMessage(content='アメリカでシャチを見るのに最適な場所はいくつかあります。特に以下の地域が人気です：\\n\\n1. **ワシントン州のオリンピック半島** - 特にサンファン諸島周辺はシャチの観察スポットとして有名です。夏の間、特に6月から9月にかけて、南方のオルカ（シャチ）がよく見られます。\\n\\n2. **アラスカ** - アラスカの沿岸部もシャチの観察に適しています。クルーズやボートツアーを利用すると、シャチを見るチャンスが増えます。\\n\\n3. **カリフォルニア州のモントレー湾** - モントレー湾は多様な海洋生物が生息しており、シャチも見られることがあります。特に春から秋にかけてが見頃です。\\n\\n4. **フロリダ州のエバーグレーズ** - バイソンやワニと共に、シャチが見られることもありますが、主に他の海洋生物の観察がメインとなることが多いです。\\n\\nこれらの地域では、観察ツアーを提供している会社がたくさんありますので、事前に予約して参加するのが良いでしょう。また、シャチは野生動物なので、観察できるかどうかは運次第ですが、これらの場所では高い確率で出会える可能性があります。', additional_kwargs={'refusal': None}, response_metadata={'token_usage': {'completion_tokens': 346, 'prompt_tokens': 78, 'total_tokens': 424, 'completion_tokens_details': {'audio_tokens': None, 'reasoning_tokens': 0}, 'prompt_tokens_details': {'audio_tokens': None, 'cached_tokens': 0}}, 'model_name': 'gpt-4o-mini-2024-07-18', 'system_fingerprint': 'fp_482c22a7bc', 'finish_reason': 'stop', 'logprobs': None}, id='run-917ca063-6ea8-4ec4-b6de-e4ed86602750-0', usage_metadata={'input_tokens': 78, 'output_tokens': 346, 'total_tokens': 424, 'input_token_details': {'cache_read': 0}, 'output_token_details': {'reasoning': 0}})"
      ]
     },
     "execution_count": 9,
     "metadata": {},
     "output_type": "execute_result"
    }
   ],
   "source": [
    "result"
   ]
  },
  {
   "cell_type": "code",
   "execution_count": 10,
   "id": "c3a29654-6b8e-4eda-9cec-22fabb9b8620",
   "metadata": {},
   "outputs": [
    {
     "data": {
      "text/plain": [
       "{'token_usage': {'completion_tokens': 346,\n",
       "  'prompt_tokens': 78,\n",
       "  'total_tokens': 424,\n",
       "  'completion_tokens_details': {'audio_tokens': None, 'reasoning_tokens': 0},\n",
       "  'prompt_tokens_details': {'audio_tokens': None, 'cached_tokens': 0}},\n",
       " 'model_name': 'gpt-4o-mini-2024-07-18',\n",
       " 'system_fingerprint': 'fp_482c22a7bc',\n",
       " 'finish_reason': 'stop',\n",
       " 'logprobs': None}"
      ]
     },
     "execution_count": 10,
     "metadata": {},
     "output_type": "execute_result"
    }
   ],
   "source": [
    "result.response_metadata"
   ]
  },
  {
   "attachments": {},
   "cell_type": "markdown",
   "id": "4718bd5c-5314-4405-a164-f1fe912ae306",
   "metadata": {},
   "source": [
    "## Tools\n",
    "\n",
    "モデルに外部システムとやり取りさせたい場合には、Tool が便利です。\n",
    "\n",
    "外部システム(API など)では、自然言語よりも特定の入力スキーマやペイロードを必要とする場合がよくあります。\n",
    "\n",
    "たとえば、API を tool としてバインドすると、モデルに必要な入力スキーマを認識させることができます。\n",
    "\n",
    "モデルは、ユーザーが入力した自然言語に基づいて tool を呼び出すことを選択します。\n",
    "\n",
    "そして、tool のスキーマに従った出力を返します。\n",
    "\n",
    "[多くの LLM プロバイダーがツール呼び出しをサポートしています](https://python.langchain.com/v0.3/docs/integrations/chat/)し、LangChain のツール呼び出しインターフェースはシンプルです。\n",
    "\n",
    "Python の任意の`関数`を、`ChatModel.bind_tools(function)`に渡すだけでよいのです。\n",
    "\n",
    "![Screenshot 2024-08-19 at 7.46.28 PM.png](https://cdn.prod.website-files.com/65b8cd72835ceeacd4449a53/66dbab08dc1c17a7a57f9960_chain2.png)\n"
   ]
  },
  {
   "cell_type": "markdown",
   "id": "17a942b1",
   "metadata": {},
   "source": [
    "ツール呼び出し(tool calling)の簡単な例を見てみましょう!\n",
    "\n",
    "`multiply` 関数が私たちの tool です。\n"
   ]
  },
  {
   "cell_type": "code",
   "execution_count": 11,
   "id": "928faf56-1a1a-4c5f-b97d-bd64d8e166d1",
   "metadata": {},
   "outputs": [],
   "source": [
    "def multiply(a: int, b: int) -> int:\n",
    "    \"\"\"Multiply a and b.\n",
    "\n",
    "    Args:\n",
    "        a: first int\n",
    "        b: second int\n",
    "    \"\"\"\n",
    "    return a * b\n",
    "\n",
    "\n",
    "llm_with_tools = llm.bind_tools([multiply])"
   ]
  },
  {
   "cell_type": "markdown",
   "id": "8a3f9dba",
   "metadata": {},
   "source": [
    "例えば「2 に 3 を掛けると何になるか」のような入力値を渡すと、ツール呼び出しが返されます。\n",
    "\n",
    "ツール呼び出しには、呼び出す関数の名前とともに、関数の入力スキーマに一致する引数が含まれています。\n",
    "\n",
    "```\n",
    "{'arguments': '{\"a\":2,\"b\":3}', 'name': 'multiply'}\n",
    "```\n"
   ]
  },
  {
   "cell_type": "code",
   "execution_count": 12,
   "id": "9edbe13e-cc72-4685-ac97-2ebb4ceb2544",
   "metadata": {},
   "outputs": [
    {
     "data": {
      "text/plain": [
       "AIMessage(content='', additional_kwargs={'tool_calls': [{'id': 'call_Pfo7Eb9ePatpmnwFzXCYCO0U', 'function': {'arguments': '{\"a\":2,\"b\":3}', 'name': 'multiply'}, 'type': 'function'}], 'refusal': None}, response_metadata={'token_usage': {'completion_tokens': 17, 'prompt_tokens': 64, 'total_tokens': 81, 'completion_tokens_details': {'audio_tokens': None, 'reasoning_tokens': 0}, 'prompt_tokens_details': {'audio_tokens': None, 'cached_tokens': 0}}, 'model_name': 'gpt-4o-mini-2024-07-18', 'system_fingerprint': 'fp_482c22a7bc', 'finish_reason': 'tool_calls', 'logprobs': None}, id='run-3f5ecabb-061a-4c7e-8959-d9e9256004f0-0', tool_calls=[{'name': 'multiply', 'args': {'a': 2, 'b': 3}, 'id': 'call_Pfo7Eb9ePatpmnwFzXCYCO0U', 'type': 'tool_call'}], usage_metadata={'input_tokens': 64, 'output_tokens': 17, 'total_tokens': 81, 'input_token_details': {'cache_read': 0}, 'output_token_details': {'reasoning': 0}})"
      ]
     },
     "execution_count": 12,
     "metadata": {},
     "output_type": "execute_result"
    }
   ],
   "source": [
    "tool_call = llm_with_tools.invoke([HumanMessage(content=\"2掛ける3はいくつになりますか\", name=\"Lance\")])\n",
    "tool_call"
   ]
  },
  {
   "cell_type": "code",
   "execution_count": 13,
   "id": "a78178cb-fa43-45b5-be5e-5a22bda5a5e7",
   "metadata": {},
   "outputs": [
    {
     "data": {
      "text/plain": [
       "[{'id': 'call_Pfo7Eb9ePatpmnwFzXCYCO0U',\n",
       "  'function': {'arguments': '{\"a\":2,\"b\":3}', 'name': 'multiply'},\n",
       "  'type': 'function'}]"
      ]
     },
     "execution_count": 13,
     "metadata": {},
     "output_type": "execute_result"
    }
   ],
   "source": [
    "tool_call.additional_kwargs[\"tool_calls\"]"
   ]
  },
  {
   "cell_type": "markdown",
   "id": "21c10f9a-2372-486b-9305-55b7c41ecd6e",
   "metadata": {},
   "source": [
    "## メッセージを state として使用\n",
    "\n",
    "これらの基礎が整ったので、今度はグラフの状態に [`messages`](https://python.langchain.com/v0.2/docs/concepts/#messages) を使用します。\n",
    "\n",
    "状態 `MessagesState` を、単一のキー `messages` を持つ `TypedDict` として定義してみましょう。\n",
    "\n",
    "`messages` は、上で定義したように(例えば、`HumanMessage` など)単にメッセージのリストです。\n",
    "\n",
    "注意: リンクは langchain v0.2 のドキュメントにリンクしているものの、poetry で環境を作ると langchain v0.3 を使用しているはずです。\n"
   ]
  },
  {
   "cell_type": "code",
   "execution_count": 14,
   "id": "3699dd5c-398c-43c7-b496-fd87e55e11ca",
   "metadata": {},
   "outputs": [],
   "source": [
    "from typing_extensions import TypedDict\n",
    "from langchain_core.messages import AnyMessage\n",
    "\n",
    "\n",
    "class MessagesState(TypedDict):\n",
    "    # この定義だと、毎回上書きされる\n",
    "    messages: list[AnyMessage]"
   ]
  },
  {
   "cell_type": "markdown",
   "id": "211cba3e-ebba-4b91-a539-1cbc28b4a40e",
   "metadata": {},
   "source": [
    "## Reducers\n",
    "\n",
    "さて、ちょっとした問題が発生しました!\n",
    "\n",
    "先ほど説明したように、各ノードは状態キー `messages` に新しい値を返します。\n",
    "\n",
    "しかし、この新しい値は以前の `messages` の値を [上書き](https://langchain-ai.github.io/langgraph/concepts/low_level/#reducers) します。\n",
    "\n",
    "グラフが実行されると、私たちは `messages` 状態キーにメッセージを **追加** したいのです。\n",
    "\n",
    "これには [reducer functions](https://langchain-ai.github.io/langgraph/concepts/low_level/#reducers) を使用できます。\n",
    "\n",
    "reducer を使用することで、state の更新方法を指定することができます。\n",
    "\n",
    "reducer 関数が指定されていない場合、以前にも見たように、キーへの更新はそれを **上書きする** ものと想定されます。\n",
    "\n",
    "しかし、メッセージを追加するには、あらかじめ用意されている `add_messages` reducer を使用できます。\n",
    "\n",
    "これにより、すべてのメッセージが既存のメッセージのリストに追加されることが保証されます。\n",
    "\n",
    "私たちは、`messages` キーに `add_messages` reducer 関数をメタデータとしてアノテーションするだけでよいのです。\n"
   ]
  },
  {
   "cell_type": "code",
   "execution_count": 15,
   "id": "6b33eb72-3197-4870-b9a3-0da8056c40c5",
   "metadata": {},
   "outputs": [],
   "source": [
    "from typing import Annotated\n",
    "from langgraph.graph.message import add_messages\n",
    "\n",
    "\n",
    "class MessagesState(TypedDict):\n",
    "    messages: Annotated[list[AnyMessage], add_messages]"
   ]
  },
  {
   "cell_type": "markdown",
   "id": "3663e574-ba15-46be-a37c-48c8052d693b",
   "metadata": {},
   "source": [
    "メッセージのリストがグラフの状態であることはよくあるので、LangGraph にはあらかじめ構築された[`MessagesState`](https://langchain-ai.github.io/langgraph/concepts/low_level/#messagesstate)があります!\n",
    "\n",
    "`MessagesState` は次のように定義されています。\n",
    "\n",
    "- 事前に構築された単一の `messages` キーを含む。\n",
    "- `AnyMessage` オブジェクトのリストです。\n",
    "- `add_messages` リダクタを使用します。\n",
    "\n",
    "通常は、上記のカスタム `TypedDict` を定義するよりも簡潔であるため、`MessagesState` を使用します。\n"
   ]
  },
  {
   "cell_type": "code",
   "execution_count": 16,
   "id": "9ab516ee-eab1-4856-8210-99f1fe499672",
   "metadata": {},
   "outputs": [],
   "source": [
    "from langgraph.graph import MessagesState\n",
    "\n",
    "\n",
    "class MessagesState(MessagesState):\n",
    "    # メッセージ以外に必要なキーを追加します。これはあらかじめ構築されています。\n",
    "    pass"
   ]
  },
  {
   "cell_type": "markdown",
   "id": "36b0fff7-60a2-4582-8f12-3a3ab6633d6c",
   "metadata": {},
   "source": [
    "もう少し深く掘り下げるために、`add_messages` reducer が単独でどのように動作するのかを見てみましょう。\n"
   ]
  },
  {
   "cell_type": "code",
   "execution_count": 17,
   "id": "23ffea76-16a5-4053-a1bc-91e0101d91dc",
   "metadata": {},
   "outputs": [
    {
     "data": {
      "text/plain": [
       "[AIMessage(content='なにかお手伝いできることはありますか?', additional_kwargs={}, response_metadata={}, name='Model', id='60c2aae3-169e-40cb-bf3e-d38261388e4a'),\n",
       " HumanMessage(content='海洋生物学の情報を探しています。', additional_kwargs={}, response_metadata={}, name='Lance', id='c3689252-1bc0-4c3b-8e75-646517b8fd32'),\n",
       " AIMessage(content='わかりました。具体的にはどのようなことにご興味がありますか？', additional_kwargs={}, response_metadata={}, name='Model', id='8cb096e2-0f55-4f3e-950c-a6063e52e457')]"
      ]
     },
     "execution_count": 17,
     "metadata": {},
     "output_type": "execute_result"
    }
   ],
   "source": [
    "# Initial state\n",
    "initial_messages = [\n",
    "    AIMessage(content=\"なにかお手伝いできることはありますか?\", name=\"Model\"),\n",
    "    HumanMessage(content=\"海洋生物学の情報を探しています。\", name=\"Lance\"),\n",
    "]\n",
    "\n",
    "# New message to add\n",
    "new_message = AIMessage(content=\"わかりました。具体的にはどのようなことにご興味がありますか？\", name=\"Model\")\n",
    "\n",
    "# Test\n",
    "add_messages(left=initial_messages, right=new_message)"
   ]
  },
  {
   "cell_type": "markdown",
   "id": "485adccc-f262-49dd-af4f-a30e9b6a48e2",
   "metadata": {},
   "source": [
    "## Our graph\n",
    "\n",
    "それでは、`MessagesState` をグラフで使用してみましょう\n"
   ]
  },
  {
   "cell_type": "code",
   "execution_count": 18,
   "id": "b5306639-7e6a-44be-8471-8d2631701cfb",
   "metadata": {},
   "outputs": [
    {
     "data": {
      "image/jpeg": "[encoded data removed]",
      "text/plain": [
       "<IPython.core.display.Image object>"
      ]
     },
     "metadata": {},
     "output_type": "display_data"
    }
   ],
   "source": [
    "from IPython.display import Image, display\n",
    "from langgraph.graph import StateGraph, START, END\n",
    "from langchain_core.messages import BaseMessage\n",
    "\n",
    "\n",
    "# Node\n",
    "def tool_calling_llm(state: MessagesState) -> dict[str, list[BaseMessage]]:\n",
    "    return {\"messages\": [llm_with_tools.invoke(state[\"messages\"])]}\n",
    "\n",
    "\n",
    "# Build graph\n",
    "builder = StateGraph(MessagesState)\n",
    "builder.add_node(\"tool_calling_llm\", tool_calling_llm)\n",
    "builder.add_edge(START, \"tool_calling_llm\")\n",
    "builder.add_edge(\"tool_calling_llm\", END)\n",
    "graph = builder.compile()\n",
    "\n",
    "# View\n",
    "display(Image(graph.get_graph().draw_mermaid_png()))"
   ]
  },
  {
   "cell_type": "markdown",
   "id": "e8909771-7786-47d6-a53d-6bbc3b365737",
   "metadata": {},
   "source": [
    "`Hello!` を渡すと、LLM はツール呼び出しなしで応答します。\n"
   ]
  },
  {
   "cell_type": "code",
   "execution_count": 19,
   "id": "983e2487-c0a5-40a2-afbc-aa53ff49fefc",
   "metadata": {},
   "outputs": [
    {
     "name": "stdout",
     "output_type": "stream",
     "text": [
      "================================\u001b[1m Human Message \u001b[0m=================================\n",
      "\n",
      "Hello!\n",
      "==================================\u001b[1m Ai Message \u001b[0m==================================\n",
      "\n",
      "Hello! How can I assist you today?\n"
     ]
    }
   ],
   "source": [
    "messages = graph.invoke({\"messages\": HumanMessage(content=\"Hello!\")})\n",
    "for m in messages[\"messages\"]:\n",
    "    m.pretty_print()"
   ]
  },
  {
   "cell_type": "markdown",
   "id": "3588688b-efd9-4dbc-abf2-7903e3ef89ba",
   "metadata": {},
   "source": [
    "LLM は、入力またはタスクがそのツールが提供する機能が必要であると判断した場合に、そのツールを使用することを選択します。\n"
   ]
  },
  {
   "cell_type": "code",
   "execution_count": 20,
   "id": "7fe8b042-ecc8-426f-995e-cc1bbaf7cacc",
   "metadata": {},
   "outputs": [
    {
     "name": "stdout",
     "output_type": "stream",
     "text": [
      "================================\u001b[1m Human Message \u001b[0m=================================\n",
      "\n",
      "2掛ける3!\n",
      "==================================\u001b[1m Ai Message \u001b[0m==================================\n",
      "Tool Calls:\n",
      "  multiply (call_Ebpowk0sF2rV02SPyxcF59iO)\n",
      " Call ID: call_Ebpowk0sF2rV02SPyxcF59iO\n",
      "  Args:\n",
      "    a: 2\n",
      "    b: 6\n"
     ]
    }
   ],
   "source": [
    "messages = graph.invoke({\"messages\": HumanMessage(content=\"2掛ける3\")})\n",
    "for m in messages[\"messages\"]:\n",
    "    m.pretty_print()"
   ]
  }
 ],
 "metadata": {
  "kernelspec": {
   "display_name": ".venv",
   "language": "python",
   "name": "python3"
  },
  "language_info": {
   "codemirror_mode": {
    "name": "ipython",
    "version": 3
   },
   "file_extension": ".py",
   "mimetype": "text/x-python",
   "name": "python",
   "nbconvert_exporter": "python",
   "pygments_lexer": "ipython3",
   "version": "3.12.6"
  }
 },
 "nbformat": 4,
 "nbformat_minor": 5
}
